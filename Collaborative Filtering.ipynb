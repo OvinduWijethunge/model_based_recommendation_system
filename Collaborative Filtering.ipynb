{
 "cells": [
  {
   "cell_type": "code",
   "execution_count": 1,
   "id": "02430fab",
   "metadata": {},
   "outputs": [
    {
     "name": "stderr",
     "output_type": "stream",
     "text": [
      "C:\\Users\\Acer\\anaconda3\\lib\\site-packages\\numpy\\_distributor_init.py:32: UserWarning: loaded more than 1 DLL from .libs:\n",
      "C:\\Users\\Acer\\anaconda3\\lib\\site-packages\\numpy\\.libs\\libopenblas.NOIJJG62EMASZI6NYURL6JBKM4EVBGM7.gfortran-win_amd64.dll\n",
      "C:\\Users\\Acer\\anaconda3\\lib\\site-packages\\numpy\\.libs\\libopenblas.QVLO2T66WEPI7JZ63PS3HMOHFEY472BC.gfortran-win_amd64.dll\n",
      "  stacklevel=1)\n"
     ]
    }
   ],
   "source": [
    "import pandas as pd\n",
    "import numpy as np\n",
    "import matplotlib.pyplot as plt\n",
    "import seaborn as sns\n",
    "import missingno as msn"
   ]
  },
  {
   "cell_type": "code",
   "execution_count": 2,
   "id": "6a623bad",
   "metadata": {},
   "outputs": [],
   "source": [
    "# ML Models\n",
    "from surprise import Reader\n",
    "from surprise import Dataset\n",
    "from surprise.model_selection import cross_validate\n",
    "from surprise import NormalPredictor\n",
    "from surprise import KNNBasic\n",
    "from surprise import KNNWithMeans\n",
    "from surprise import KNNWithZScore\n",
    "from surprise import KNNBaseline\n",
    "from surprise import SVD\n",
    "from surprise import BaselineOnly\n",
    "from surprise import SVDpp\n",
    "from surprise import NMF\n",
    "from surprise import SlopeOne\n",
    "from surprise import CoClustering\n",
    "from surprise.accuracy import rmse\n",
    "from surprise import accuracy\n",
    "from sklearn.feature_extraction.text import CountVectorizer\n",
    "from sklearn.feature_extraction.text import TfidfVectorizer\n",
    "from sklearn.metrics.pairwise import cosine_similarity\n",
    "\n",
    "# ML Pre processing\n",
    "from surprise.model_selection import train_test_split\n",
    "from sklearn.preprocessing import StandardScaler\n",
    "\n",
    "# Hyperparameter tuning\n",
    "from surprise.model_selection import GridSearchCV"
   ]
  },
  {
   "cell_type": "code",
   "execution_count": 3,
   "id": "c5f21e0f",
   "metadata": {},
   "outputs": [],
   "source": [
    "df_ratings = pd.read_table(\"dataSet/user_ratedmovies.dat\",sep=\"\\t\")"
   ]
  },
  {
   "cell_type": "code",
   "execution_count": 4,
   "id": "2df0c939",
   "metadata": {},
   "outputs": [
    {
     "data": {
      "text/html": [
       "<div>\n",
       "<style scoped>\n",
       "    .dataframe tbody tr th:only-of-type {\n",
       "        vertical-align: middle;\n",
       "    }\n",
       "\n",
       "    .dataframe tbody tr th {\n",
       "        vertical-align: top;\n",
       "    }\n",
       "\n",
       "    .dataframe thead th {\n",
       "        text-align: right;\n",
       "    }\n",
       "</style>\n",
       "<table border=\"1\" class=\"dataframe\">\n",
       "  <thead>\n",
       "    <tr style=\"text-align: right;\">\n",
       "      <th></th>\n",
       "      <th>userID</th>\n",
       "      <th>movieID</th>\n",
       "      <th>rating</th>\n",
       "      <th>date_day</th>\n",
       "      <th>date_month</th>\n",
       "      <th>date_year</th>\n",
       "      <th>date_hour</th>\n",
       "      <th>date_minute</th>\n",
       "      <th>date_second</th>\n",
       "    </tr>\n",
       "  </thead>\n",
       "  <tbody>\n",
       "    <tr>\n",
       "      <th>0</th>\n",
       "      <td>75</td>\n",
       "      <td>3</td>\n",
       "      <td>1.0</td>\n",
       "      <td>29</td>\n",
       "      <td>10</td>\n",
       "      <td>2006</td>\n",
       "      <td>23</td>\n",
       "      <td>17</td>\n",
       "      <td>16</td>\n",
       "    </tr>\n",
       "    <tr>\n",
       "      <th>1</th>\n",
       "      <td>75</td>\n",
       "      <td>32</td>\n",
       "      <td>4.5</td>\n",
       "      <td>29</td>\n",
       "      <td>10</td>\n",
       "      <td>2006</td>\n",
       "      <td>23</td>\n",
       "      <td>23</td>\n",
       "      <td>44</td>\n",
       "    </tr>\n",
       "  </tbody>\n",
       "</table>\n",
       "</div>"
      ],
      "text/plain": [
       "   userID  movieID  rating  date_day  date_month  date_year  date_hour  \\\n",
       "0      75        3     1.0        29          10       2006         23   \n",
       "1      75       32     4.5        29          10       2006         23   \n",
       "\n",
       "   date_minute  date_second  \n",
       "0           17           16  \n",
       "1           23           44  "
      ]
     },
     "execution_count": 4,
     "metadata": {},
     "output_type": "execute_result"
    }
   ],
   "source": [
    "df_ratings.head(2)"
   ]
  },
  {
   "cell_type": "code",
   "execution_count": 73,
   "id": "8bd1a67e",
   "metadata": {},
   "outputs": [],
   "source": [
    "df_temp = df_ratings[['userID','movieID','rating']]\n",
    "df_temp.to_csv('modified_rating_dataSet.csv',index=False)"
   ]
  },
  {
   "cell_type": "code",
   "execution_count": 54,
   "id": "587c2775",
   "metadata": {},
   "outputs": [],
   "source": [
    "df_movies = pd.read_table(\"dataSet/movies.dat\",sep=\"\\t\")\n",
    "pd.set_option('display.max_columns',None)"
   ]
  },
  {
   "cell_type": "code",
   "execution_count": 55,
   "id": "2df26afe",
   "metadata": {},
   "outputs": [],
   "source": [
    "df_movies.rename(columns={'id': 'movieID'}, inplace=True)"
   ]
  },
  {
   "cell_type": "code",
   "execution_count": 56,
   "id": "d02ecf82",
   "metadata": {},
   "outputs": [
    {
     "data": {
      "text/html": [
       "<div>\n",
       "<style scoped>\n",
       "    .dataframe tbody tr th:only-of-type {\n",
       "        vertical-align: middle;\n",
       "    }\n",
       "\n",
       "    .dataframe tbody tr th {\n",
       "        vertical-align: top;\n",
       "    }\n",
       "\n",
       "    .dataframe thead th {\n",
       "        text-align: right;\n",
       "    }\n",
       "</style>\n",
       "<table border=\"1\" class=\"dataframe\">\n",
       "  <thead>\n",
       "    <tr style=\"text-align: right;\">\n",
       "      <th></th>\n",
       "      <th>movieID</th>\n",
       "      <th>title</th>\n",
       "      <th>imdbID</th>\n",
       "      <th>spanishTitle</th>\n",
       "      <th>imdbPictureURL</th>\n",
       "      <th>year</th>\n",
       "      <th>rtID</th>\n",
       "      <th>rtAllCriticsRating</th>\n",
       "      <th>rtAllCriticsNumReviews</th>\n",
       "      <th>rtAllCriticsNumFresh</th>\n",
       "      <th>rtAllCriticsNumRotten</th>\n",
       "      <th>rtAllCriticsScore</th>\n",
       "      <th>rtTopCriticsRating</th>\n",
       "      <th>rtTopCriticsNumReviews</th>\n",
       "      <th>rtTopCriticsNumFresh</th>\n",
       "      <th>rtTopCriticsNumRotten</th>\n",
       "      <th>rtTopCriticsScore</th>\n",
       "      <th>rtAudienceRating</th>\n",
       "      <th>rtAudienceNumRatings</th>\n",
       "      <th>rtAudienceScore</th>\n",
       "      <th>rtPictureURL</th>\n",
       "    </tr>\n",
       "  </thead>\n",
       "  <tbody>\n",
       "    <tr>\n",
       "      <th>0</th>\n",
       "      <td>1</td>\n",
       "      <td>Toy story</td>\n",
       "      <td>114709</td>\n",
       "      <td>Toy story (juguetes)</td>\n",
       "      <td>http://ia.media-imdb.com/images/M/MV5BMTMwNDU0...</td>\n",
       "      <td>1995</td>\n",
       "      <td>toy_story</td>\n",
       "      <td>9</td>\n",
       "      <td>73</td>\n",
       "      <td>73</td>\n",
       "      <td>0</td>\n",
       "      <td>100</td>\n",
       "      <td>8.5</td>\n",
       "      <td>17</td>\n",
       "      <td>17</td>\n",
       "      <td>0</td>\n",
       "      <td>100</td>\n",
       "      <td>3.7</td>\n",
       "      <td>102338</td>\n",
       "      <td>81</td>\n",
       "      <td>http://content7.flixster.com/movie/10/93/63/10...</td>\n",
       "    </tr>\n",
       "    <tr>\n",
       "      <th>1</th>\n",
       "      <td>2</td>\n",
       "      <td>Jumanji</td>\n",
       "      <td>113497</td>\n",
       "      <td>Jumanji</td>\n",
       "      <td>http://ia.media-imdb.com/images/M/MV5BMzM5NjE1...</td>\n",
       "      <td>1995</td>\n",
       "      <td>1068044-jumanji</td>\n",
       "      <td>5.6</td>\n",
       "      <td>28</td>\n",
       "      <td>13</td>\n",
       "      <td>15</td>\n",
       "      <td>46</td>\n",
       "      <td>5.8</td>\n",
       "      <td>5</td>\n",
       "      <td>2</td>\n",
       "      <td>3</td>\n",
       "      <td>40</td>\n",
       "      <td>3.2</td>\n",
       "      <td>44587</td>\n",
       "      <td>61</td>\n",
       "      <td>http://content8.flixster.com/movie/56/79/73/56...</td>\n",
       "    </tr>\n",
       "  </tbody>\n",
       "</table>\n",
       "</div>"
      ],
      "text/plain": [
       "   movieID      title  imdbID          spanishTitle  \\\n",
       "0        1  Toy story  114709  Toy story (juguetes)   \n",
       "1        2    Jumanji  113497               Jumanji   \n",
       "\n",
       "                                      imdbPictureURL  year             rtID  \\\n",
       "0  http://ia.media-imdb.com/images/M/MV5BMTMwNDU0...  1995        toy_story   \n",
       "1  http://ia.media-imdb.com/images/M/MV5BMzM5NjE1...  1995  1068044-jumanji   \n",
       "\n",
       "  rtAllCriticsRating rtAllCriticsNumReviews rtAllCriticsNumFresh  \\\n",
       "0                  9                     73                   73   \n",
       "1                5.6                     28                   13   \n",
       "\n",
       "  rtAllCriticsNumRotten rtAllCriticsScore rtTopCriticsRating  \\\n",
       "0                     0               100                8.5   \n",
       "1                    15                46                5.8   \n",
       "\n",
       "  rtTopCriticsNumReviews rtTopCriticsNumFresh rtTopCriticsNumRotten  \\\n",
       "0                     17                   17                     0   \n",
       "1                      5                    2                     3   \n",
       "\n",
       "  rtTopCriticsScore rtAudienceRating rtAudienceNumRatings rtAudienceScore  \\\n",
       "0               100              3.7               102338              81   \n",
       "1                40              3.2                44587              61   \n",
       "\n",
       "                                        rtPictureURL  \n",
       "0  http://content7.flixster.com/movie/10/93/63/10...  \n",
       "1  http://content8.flixster.com/movie/56/79/73/56...  "
      ]
     },
     "execution_count": 56,
     "metadata": {},
     "output_type": "execute_result"
    }
   ],
   "source": [
    "df_movies.head(2)"
   ]
  },
  {
   "cell_type": "code",
   "execution_count": 74,
   "id": "1c6632bd",
   "metadata": {},
   "outputs": [
    {
     "data": {
      "text/plain": [
       "movieID                     0\n",
       "title                       0\n",
       "imdbID                      0\n",
       "spanishTitle                0\n",
       "imdbPictureURL            181\n",
       "year                        0\n",
       "rtID                      311\n",
       "rtAllCriticsRating          0\n",
       "rtAllCriticsNumReviews      0\n",
       "rtAllCriticsNumFresh        0\n",
       "rtAllCriticsNumRotten       0\n",
       "rtAllCriticsScore           0\n",
       "rtTopCriticsRating          0\n",
       "rtTopCriticsNumReviews      0\n",
       "rtTopCriticsNumFresh        0\n",
       "rtTopCriticsNumRotten       0\n",
       "rtTopCriticsScore           0\n",
       "rtAudienceRating            0\n",
       "rtAudienceNumRatings        0\n",
       "rtAudienceScore             0\n",
       "rtPictureURL                0\n",
       "dtype: int64"
      ]
     },
     "execution_count": 74,
     "metadata": {},
     "output_type": "execute_result"
    }
   ],
   "source": [
    "df_movies.isnull().sum()"
   ]
  },
  {
   "cell_type": "code",
   "execution_count": 76,
   "id": "3b6153c8",
   "metadata": {},
   "outputs": [],
   "source": [
    "df_temp2 = df_movies[['movieID','title']]\n",
    "#df_temp2.to_csv('modified_movies_dataSet.csv',index=False)"
   ]
  },
  {
   "cell_type": "code",
   "execution_count": 86,
   "id": "d45e60c1",
   "metadata": {},
   "outputs": [
    {
     "data": {
      "text/html": [
       "<div>\n",
       "<style scoped>\n",
       "    .dataframe tbody tr th:only-of-type {\n",
       "        vertical-align: middle;\n",
       "    }\n",
       "\n",
       "    .dataframe tbody tr th {\n",
       "        vertical-align: top;\n",
       "    }\n",
       "\n",
       "    .dataframe thead th {\n",
       "        text-align: right;\n",
       "    }\n",
       "</style>\n",
       "<table border=\"1\" class=\"dataframe\">\n",
       "  <thead>\n",
       "    <tr style=\"text-align: right;\">\n",
       "      <th></th>\n",
       "      <th>movieID</th>\n",
       "      <th>title</th>\n",
       "    </tr>\n",
       "  </thead>\n",
       "  <tbody>\n",
       "    <tr>\n",
       "      <th>0</th>\n",
       "      <td>1</td>\n",
       "      <td>Toy story</td>\n",
       "    </tr>\n",
       "    <tr>\n",
       "      <th>1</th>\n",
       "      <td>2</td>\n",
       "      <td>Jumanji</td>\n",
       "    </tr>\n",
       "  </tbody>\n",
       "</table>\n",
       "</div>"
      ],
      "text/plain": [
       "   movieID      title\n",
       "0        1  Toy story\n",
       "1        2    Jumanji"
      ]
     },
     "execution_count": 86,
     "metadata": {},
     "output_type": "execute_result"
    }
   ],
   "source": [
    "df_temp2.head(2)"
   ]
  },
  {
   "cell_type": "code",
   "execution_count": 77,
   "id": "2ee50b97",
   "metadata": {},
   "outputs": [],
   "source": [
    "is_duplicate = df_temp2.duplicated()"
   ]
  },
  {
   "cell_type": "code",
   "execution_count": 78,
   "id": "6ae443dd",
   "metadata": {},
   "outputs": [
    {
     "name": "stdout",
     "output_type": "stream",
     "text": [
      "Number of duplicate records: 0\n"
     ]
    }
   ],
   "source": [
    "print(\"Number of duplicate records:\", sum(is_duplicate))"
   ]
  },
  {
   "cell_type": "code",
   "execution_count": 79,
   "id": "2aa0a783",
   "metadata": {},
   "outputs": [],
   "source": [
    "df_temp2.to_csv('modified_movies_dataSet.csv',index=False)"
   ]
  },
  {
   "cell_type": "code",
   "execution_count": 5,
   "id": "a793c3a1",
   "metadata": {},
   "outputs": [],
   "source": [
    "df = df_ratings[['userID','movieID','rating']]"
   ]
  },
  {
   "cell_type": "code",
   "execution_count": 25,
   "id": "6925cf78",
   "metadata": {},
   "outputs": [
    {
     "data": {
      "text/html": [
       "<div>\n",
       "<style scoped>\n",
       "    .dataframe tbody tr th:only-of-type {\n",
       "        vertical-align: middle;\n",
       "    }\n",
       "\n",
       "    .dataframe tbody tr th {\n",
       "        vertical-align: top;\n",
       "    }\n",
       "\n",
       "    .dataframe thead th {\n",
       "        text-align: right;\n",
       "    }\n",
       "</style>\n",
       "<table border=\"1\" class=\"dataframe\">\n",
       "  <thead>\n",
       "    <tr style=\"text-align: right;\">\n",
       "      <th></th>\n",
       "      <th>userID</th>\n",
       "      <th>movieID</th>\n",
       "      <th>rating</th>\n",
       "    </tr>\n",
       "  </thead>\n",
       "  <tbody>\n",
       "    <tr>\n",
       "      <th>0</th>\n",
       "      <td>75</td>\n",
       "      <td>3</td>\n",
       "      <td>1.0</td>\n",
       "    </tr>\n",
       "    <tr>\n",
       "      <th>1</th>\n",
       "      <td>75</td>\n",
       "      <td>32</td>\n",
       "      <td>4.5</td>\n",
       "    </tr>\n",
       "    <tr>\n",
       "      <th>2</th>\n",
       "      <td>75</td>\n",
       "      <td>110</td>\n",
       "      <td>4.0</td>\n",
       "    </tr>\n",
       "    <tr>\n",
       "      <th>3</th>\n",
       "      <td>75</td>\n",
       "      <td>160</td>\n",
       "      <td>2.0</td>\n",
       "    </tr>\n",
       "  </tbody>\n",
       "</table>\n",
       "</div>"
      ],
      "text/plain": [
       "   userID  movieID  rating\n",
       "0      75        3     1.0\n",
       "1      75       32     4.5\n",
       "2      75      110     4.0\n",
       "3      75      160     2.0"
      ]
     },
     "execution_count": 25,
     "metadata": {},
     "output_type": "execute_result"
    }
   ],
   "source": [
    "df.head(4)"
   ]
  },
  {
   "cell_type": "code",
   "execution_count": 6,
   "id": "1d9cfed3",
   "metadata": {},
   "outputs": [
    {
     "data": {
      "text/plain": [
       "userID     0\n",
       "movieID    0\n",
       "rating     0\n",
       "dtype: int64"
      ]
     },
     "execution_count": 6,
     "metadata": {},
     "output_type": "execute_result"
    }
   ],
   "source": [
    "df.isnull().sum()"
   ]
  },
  {
   "cell_type": "code",
   "execution_count": 7,
   "id": "d73ed1dc",
   "metadata": {},
   "outputs": [],
   "source": [
    "is_duplicate = df.duplicated()"
   ]
  },
  {
   "cell_type": "code",
   "execution_count": 8,
   "id": "9409f7c6",
   "metadata": {},
   "outputs": [
    {
     "name": "stdout",
     "output_type": "stream",
     "text": [
      "Number of duplicate records: 0\n"
     ]
    }
   ],
   "source": [
    "print(\"Number of duplicate records:\", sum(is_duplicate))"
   ]
  },
  {
   "cell_type": "code",
   "execution_count": 9,
   "id": "8f0e3e6a",
   "metadata": {},
   "outputs": [],
   "source": [
    "# surprise reader API to read the dataset\n",
    "reader = Reader()"
   ]
  },
  {
   "cell_type": "code",
   "execution_count": 12,
   "id": "6496ca84",
   "metadata": {},
   "outputs": [],
   "source": [
    "data = Dataset.load_from_df(df_ratings[['userID','movieID','rating']], reader)\n",
    "#data.split(n_folds=5)"
   ]
  },
  {
   "cell_type": "code",
   "execution_count": 18,
   "id": "ab213981",
   "metadata": {},
   "outputs": [],
   "source": [
    "algo = SVD()"
   ]
  },
  {
   "cell_type": "code",
   "execution_count": 16,
   "id": "7553ae5c",
   "metadata": {},
   "outputs": [],
   "source": [
    "# Data split 9/1\n",
    "trainset, testset = train_test_split(data, test_size=0.01)"
   ]
  },
  {
   "cell_type": "code",
   "execution_count": 19,
   "id": "cf8246aa",
   "metadata": {},
   "outputs": [
    {
     "data": {
      "text/plain": [
       "<surprise.prediction_algorithms.matrix_factorization.SVD at 0x270d9ca43c8>"
      ]
     },
     "execution_count": 19,
     "metadata": {},
     "output_type": "execute_result"
    }
   ],
   "source": [
    "# Fitting our trainset\n",
    "algo.fit(trainset)"
   ]
  },
  {
   "cell_type": "code",
   "execution_count": 20,
   "id": "2bbad39d",
   "metadata": {},
   "outputs": [],
   "source": [
    "predictions = algo.test(testset) "
   ]
  },
  {
   "cell_type": "code",
   "execution_count": 44,
   "id": "ebf99ccb",
   "metadata": {},
   "outputs": [
    {
     "name": "stdout",
     "output_type": "stream",
     "text": [
      "RMSE: 0.7528\n"
     ]
    },
    {
     "data": {
      "text/plain": [
       "0.7528406875593947"
      ]
     },
     "execution_count": 44,
     "metadata": {},
     "output_type": "execute_result"
    }
   ],
   "source": [
    "accuracy.rmse(predictions)"
   ]
  },
  {
   "cell_type": "code",
   "execution_count": 21,
   "id": "88835e11",
   "metadata": {},
   "outputs": [],
   "source": [
    "test = pd.DataFrame(predictions)"
   ]
  },
  {
   "cell_type": "code",
   "execution_count": 22,
   "id": "64c496bf",
   "metadata": {},
   "outputs": [
    {
     "data": {
      "text/html": [
       "<div>\n",
       "<style scoped>\n",
       "    .dataframe tbody tr th:only-of-type {\n",
       "        vertical-align: middle;\n",
       "    }\n",
       "\n",
       "    .dataframe tbody tr th {\n",
       "        vertical-align: top;\n",
       "    }\n",
       "\n",
       "    .dataframe thead th {\n",
       "        text-align: right;\n",
       "    }\n",
       "</style>\n",
       "<table border=\"1\" class=\"dataframe\">\n",
       "  <thead>\n",
       "    <tr style=\"text-align: right;\">\n",
       "      <th></th>\n",
       "      <th>uid</th>\n",
       "      <th>iid</th>\n",
       "      <th>r_ui</th>\n",
       "      <th>est</th>\n",
       "      <th>details</th>\n",
       "    </tr>\n",
       "  </thead>\n",
       "  <tbody>\n",
       "    <tr>\n",
       "      <th>0</th>\n",
       "      <td>64411</td>\n",
       "      <td>1219</td>\n",
       "      <td>5.0</td>\n",
       "      <td>4.090862</td>\n",
       "      <td>{'was_impossible': False}</td>\n",
       "    </tr>\n",
       "    <tr>\n",
       "      <th>1</th>\n",
       "      <td>5085</td>\n",
       "      <td>3262</td>\n",
       "      <td>2.5</td>\n",
       "      <td>3.317922</td>\n",
       "      <td>{'was_impossible': False}</td>\n",
       "    </tr>\n",
       "    <tr>\n",
       "      <th>2</th>\n",
       "      <td>39935</td>\n",
       "      <td>48082</td>\n",
       "      <td>5.0</td>\n",
       "      <td>4.549616</td>\n",
       "      <td>{'was_impossible': False}</td>\n",
       "    </tr>\n",
       "    <tr>\n",
       "      <th>3</th>\n",
       "      <td>48717</td>\n",
       "      <td>3072</td>\n",
       "      <td>0.5</td>\n",
       "      <td>3.159473</td>\n",
       "      <td>{'was_impossible': False}</td>\n",
       "    </tr>\n",
       "    <tr>\n",
       "      <th>4</th>\n",
       "      <td>20492</td>\n",
       "      <td>46948</td>\n",
       "      <td>3.5</td>\n",
       "      <td>3.803004</td>\n",
       "      <td>{'was_impossible': False}</td>\n",
       "    </tr>\n",
       "    <tr>\n",
       "      <th>...</th>\n",
       "      <td>...</td>\n",
       "      <td>...</td>\n",
       "      <td>...</td>\n",
       "      <td>...</td>\n",
       "      <td>...</td>\n",
       "    </tr>\n",
       "    <tr>\n",
       "      <th>8551</th>\n",
       "      <td>14918</td>\n",
       "      <td>5991</td>\n",
       "      <td>4.5</td>\n",
       "      <td>3.466088</td>\n",
       "      <td>{'was_impossible': False}</td>\n",
       "    </tr>\n",
       "    <tr>\n",
       "      <th>8552</th>\n",
       "      <td>28048</td>\n",
       "      <td>1240</td>\n",
       "      <td>3.5</td>\n",
       "      <td>3.835151</td>\n",
       "      <td>{'was_impossible': False}</td>\n",
       "    </tr>\n",
       "    <tr>\n",
       "      <th>8553</th>\n",
       "      <td>29658</td>\n",
       "      <td>1136</td>\n",
       "      <td>4.5</td>\n",
       "      <td>4.411280</td>\n",
       "      <td>{'was_impossible': False}</td>\n",
       "    </tr>\n",
       "    <tr>\n",
       "      <th>8554</th>\n",
       "      <td>36538</td>\n",
       "      <td>4639</td>\n",
       "      <td>3.0</td>\n",
       "      <td>2.905185</td>\n",
       "      <td>{'was_impossible': False}</td>\n",
       "    </tr>\n",
       "    <tr>\n",
       "      <th>8555</th>\n",
       "      <td>28665</td>\n",
       "      <td>3827</td>\n",
       "      <td>2.0</td>\n",
       "      <td>2.380571</td>\n",
       "      <td>{'was_impossible': False}</td>\n",
       "    </tr>\n",
       "  </tbody>\n",
       "</table>\n",
       "<p>8556 rows × 5 columns</p>\n",
       "</div>"
      ],
      "text/plain": [
       "        uid    iid  r_ui       est                    details\n",
       "0     64411   1219   5.0  4.090862  {'was_impossible': False}\n",
       "1      5085   3262   2.5  3.317922  {'was_impossible': False}\n",
       "2     39935  48082   5.0  4.549616  {'was_impossible': False}\n",
       "3     48717   3072   0.5  3.159473  {'was_impossible': False}\n",
       "4     20492  46948   3.5  3.803004  {'was_impossible': False}\n",
       "...     ...    ...   ...       ...                        ...\n",
       "8551  14918   5991   4.5  3.466088  {'was_impossible': False}\n",
       "8552  28048   1240   3.5  3.835151  {'was_impossible': False}\n",
       "8553  29658   1136   4.5  4.411280  {'was_impossible': False}\n",
       "8554  36538   4639   3.0  2.905185  {'was_impossible': False}\n",
       "8555  28665   3827   2.0  2.380571  {'was_impossible': False}\n",
       "\n",
       "[8556 rows x 5 columns]"
      ]
     },
     "execution_count": 22,
     "metadata": {},
     "output_type": "execute_result"
    }
   ],
   "source": [
    "test"
   ]
  },
  {
   "cell_type": "code",
   "execution_count": 80,
   "id": "01ea0be2",
   "metadata": {},
   "outputs": [],
   "source": [
    "import pickle\n",
    "#open a file, where you ant to store the data\n",
    "file = open('SVD_modelv2.pkl', 'wb')\n",
    "# dump information to that file\n",
    "pickle.dump(algo, file)\n",
    "file.close()"
   ]
  },
  {
   "cell_type": "code",
   "execution_count": 98,
   "id": "09638b45",
   "metadata": {},
   "outputs": [],
   "source": [
    "x = df[df['userID'] == 1].shape"
   ]
  },
  {
   "cell_type": "code",
   "execution_count": 100,
   "id": "ee6a618c",
   "metadata": {},
   "outputs": [
    {
     "data": {
      "text/plain": [
       "0"
      ]
     },
     "execution_count": 100,
     "metadata": {},
     "output_type": "execute_result"
    }
   ],
   "source": [
    "x[0]"
   ]
  },
  {
   "cell_type": "code",
   "execution_count": 62,
   "id": "51e8ae3d",
   "metadata": {},
   "outputs": [
    {
     "data": {
      "text/plain": [
       "array([   75,    78,   127, ..., 71525, 71529, 71534], dtype=int64)"
      ]
     },
     "execution_count": 62,
     "metadata": {},
     "output_type": "execute_result"
    }
   ],
   "source": [
    "df['userID'].unique()"
   ]
  },
  {
   "cell_type": "code",
   "execution_count": 95,
   "id": "87afb22b",
   "metadata": {},
   "outputs": [
    {
     "data": {
      "text/plain": [
       "Prediction(uid=1, iid=5107, r_ui=None, est=3.1535657489816336, details={'was_impossible': False})"
      ]
     },
     "execution_count": 95,
     "metadata": {},
     "output_type": "execute_result"
    }
   ],
   "source": [
    "algo.predict(1, 5107)"
   ]
  },
  {
   "cell_type": "code",
   "execution_count": 46,
   "id": "6a297ce7",
   "metadata": {},
   "outputs": [],
   "source": [
    "def get_recommendations(uid):\n",
    "    prediction_list = []\n",
    "    for mid in df_ratings['movieID'].unique():\n",
    "        predic = algo.predict(uid,mid)\n",
    "        prediction_list.append(predic)\n",
    "    return prediction_list  "
   ]
  },
  {
   "cell_type": "code",
   "execution_count": 64,
   "id": "69b81f47",
   "metadata": {},
   "outputs": [],
   "source": [
    "prediction = get_recommendations(127)"
   ]
  },
  {
   "cell_type": "code",
   "execution_count": 65,
   "id": "3f59d5fa",
   "metadata": {},
   "outputs": [
    {
     "data": {
      "text/plain": [
       "[Prediction(uid=127, iid=3, r_ui=None, est=3.6702614103262228, details={'was_impossible': False}),\n",
       " Prediction(uid=127, iid=32, r_ui=None, est=4.500144566275445, details={'was_impossible': False}),\n",
       " Prediction(uid=127, iid=110, r_ui=None, est=4.610423885799751, details={'was_impossible': False}),\n",
       " Prediction(uid=127, iid=160, r_ui=None, est=3.1152990389689514, details={'was_impossible': False}),\n",
       " Prediction(uid=127, iid=163, r_ui=None, est=3.70113909200238, details={'was_impossible': False})]"
      ]
     },
     "execution_count": 65,
     "metadata": {},
     "output_type": "execute_result"
    }
   ],
   "source": [
    "prediction[:5]"
   ]
  },
  {
   "cell_type": "code",
   "execution_count": 66,
   "id": "86a2e5e2",
   "metadata": {},
   "outputs": [],
   "source": [
    "df_pred=pd.DataFrame(prediction)"
   ]
  },
  {
   "cell_type": "code",
   "execution_count": 67,
   "id": "4486fe10",
   "metadata": {},
   "outputs": [],
   "source": [
    "# Renaming our predictions to original names\n",
    "df_pred=df_pred.rename(columns={'uid':'userID', 'iid':'movieID','est':'rating'}).sort_values('rating',ascending=False).head(10)"
   ]
  },
  {
   "cell_type": "code",
   "execution_count": 68,
   "id": "c748fc3b",
   "metadata": {},
   "outputs": [
    {
     "data": {
      "text/html": [
       "<div>\n",
       "<style scoped>\n",
       "    .dataframe tbody tr th:only-of-type {\n",
       "        vertical-align: middle;\n",
       "    }\n",
       "\n",
       "    .dataframe tbody tr th {\n",
       "        vertical-align: top;\n",
       "    }\n",
       "\n",
       "    .dataframe thead th {\n",
       "        text-align: right;\n",
       "    }\n",
       "</style>\n",
       "<table border=\"1\" class=\"dataframe\">\n",
       "  <thead>\n",
       "    <tr style=\"text-align: right;\">\n",
       "      <th></th>\n",
       "      <th>userID</th>\n",
       "      <th>movieID</th>\n",
       "      <th>r_ui</th>\n",
       "      <th>rating</th>\n",
       "      <th>details</th>\n",
       "    </tr>\n",
       "  </thead>\n",
       "  <tbody>\n",
       "    <tr>\n",
       "      <th>7</th>\n",
       "      <td>127</td>\n",
       "      <td>296</td>\n",
       "      <td>None</td>\n",
       "      <td>5.000000</td>\n",
       "      <td>{'was_impossible': False}</td>\n",
       "    </tr>\n",
       "    <tr>\n",
       "      <th>2200</th>\n",
       "      <td>127</td>\n",
       "      <td>63082</td>\n",
       "      <td>None</td>\n",
       "      <td>4.940701</td>\n",
       "      <td>{'was_impossible': False}</td>\n",
       "    </tr>\n",
       "    <tr>\n",
       "      <th>276</th>\n",
       "      <td>127</td>\n",
       "      <td>2542</td>\n",
       "      <td>None</td>\n",
       "      <td>4.934788</td>\n",
       "      <td>{'was_impossible': False}</td>\n",
       "    </tr>\n",
       "    <tr>\n",
       "      <th>550</th>\n",
       "      <td>127</td>\n",
       "      <td>50</td>\n",
       "      <td>None</td>\n",
       "      <td>4.912259</td>\n",
       "      <td>{'was_impossible': False}</td>\n",
       "    </tr>\n",
       "    <tr>\n",
       "      <th>1622</th>\n",
       "      <td>127</td>\n",
       "      <td>7767</td>\n",
       "      <td>None</td>\n",
       "      <td>4.886759</td>\n",
       "      <td>{'was_impossible': False}</td>\n",
       "    </tr>\n",
       "    <tr>\n",
       "      <th>6199</th>\n",
       "      <td>127</td>\n",
       "      <td>2931</td>\n",
       "      <td>None</td>\n",
       "      <td>4.879091</td>\n",
       "      <td>{'was_impossible': False}</td>\n",
       "    </tr>\n",
       "    <tr>\n",
       "      <th>258</th>\n",
       "      <td>127</td>\n",
       "      <td>2360</td>\n",
       "      <td>None</td>\n",
       "      <td>4.867947</td>\n",
       "      <td>{'was_impossible': False}</td>\n",
       "    </tr>\n",
       "    <tr>\n",
       "      <th>629</th>\n",
       "      <td>127</td>\n",
       "      <td>1213</td>\n",
       "      <td>None</td>\n",
       "      <td>4.866306</td>\n",
       "      <td>{'was_impossible': False}</td>\n",
       "    </tr>\n",
       "    <tr>\n",
       "      <th>953</th>\n",
       "      <td>127</td>\n",
       "      <td>2351</td>\n",
       "      <td>None</td>\n",
       "      <td>4.857233</td>\n",
       "      <td>{'was_impossible': False}</td>\n",
       "    </tr>\n",
       "    <tr>\n",
       "      <th>34</th>\n",
       "      <td>127</td>\n",
       "      <td>2959</td>\n",
       "      <td>None</td>\n",
       "      <td>4.847372</td>\n",
       "      <td>{'was_impossible': False}</td>\n",
       "    </tr>\n",
       "  </tbody>\n",
       "</table>\n",
       "</div>"
      ],
      "text/plain": [
       "      userID  movieID  r_ui    rating                    details\n",
       "7        127      296  None  5.000000  {'was_impossible': False}\n",
       "2200     127    63082  None  4.940701  {'was_impossible': False}\n",
       "276      127     2542  None  4.934788  {'was_impossible': False}\n",
       "550      127       50  None  4.912259  {'was_impossible': False}\n",
       "1622     127     7767  None  4.886759  {'was_impossible': False}\n",
       "6199     127     2931  None  4.879091  {'was_impossible': False}\n",
       "258      127     2360  None  4.867947  {'was_impossible': False}\n",
       "629      127     1213  None  4.866306  {'was_impossible': False}\n",
       "953      127     2351  None  4.857233  {'was_impossible': False}\n",
       "34       127     2959  None  4.847372  {'was_impossible': False}"
      ]
     },
     "execution_count": 68,
     "metadata": {},
     "output_type": "execute_result"
    }
   ],
   "source": [
    "df_pred"
   ]
  },
  {
   "cell_type": "code",
   "execution_count": 69,
   "id": "194f3221",
   "metadata": {},
   "outputs": [],
   "source": [
    "df_final = df_pred.merge(df_movies ,on='movieID',how='left')"
   ]
  },
  {
   "cell_type": "code",
   "execution_count": 70,
   "id": "e4cb792e",
   "metadata": {},
   "outputs": [
    {
     "data": {
      "text/html": [
       "<div>\n",
       "<style scoped>\n",
       "    .dataframe tbody tr th:only-of-type {\n",
       "        vertical-align: middle;\n",
       "    }\n",
       "\n",
       "    .dataframe tbody tr th {\n",
       "        vertical-align: top;\n",
       "    }\n",
       "\n",
       "    .dataframe thead th {\n",
       "        text-align: right;\n",
       "    }\n",
       "</style>\n",
       "<table border=\"1\" class=\"dataframe\">\n",
       "  <thead>\n",
       "    <tr style=\"text-align: right;\">\n",
       "      <th></th>\n",
       "      <th>userID</th>\n",
       "      <th>movieID</th>\n",
       "      <th>r_ui</th>\n",
       "      <th>rating</th>\n",
       "      <th>details</th>\n",
       "      <th>title</th>\n",
       "      <th>imdbID</th>\n",
       "      <th>spanishTitle</th>\n",
       "      <th>imdbPictureURL</th>\n",
       "      <th>year</th>\n",
       "      <th>rtID</th>\n",
       "      <th>rtAllCriticsRating</th>\n",
       "      <th>rtAllCriticsNumReviews</th>\n",
       "      <th>rtAllCriticsNumFresh</th>\n",
       "      <th>rtAllCriticsNumRotten</th>\n",
       "      <th>rtAllCriticsScore</th>\n",
       "      <th>rtTopCriticsRating</th>\n",
       "      <th>rtTopCriticsNumReviews</th>\n",
       "      <th>rtTopCriticsNumFresh</th>\n",
       "      <th>rtTopCriticsNumRotten</th>\n",
       "      <th>rtTopCriticsScore</th>\n",
       "      <th>rtAudienceRating</th>\n",
       "      <th>rtAudienceNumRatings</th>\n",
       "      <th>rtAudienceScore</th>\n",
       "      <th>rtPictureURL</th>\n",
       "    </tr>\n",
       "  </thead>\n",
       "  <tbody>\n",
       "    <tr>\n",
       "      <th>0</th>\n",
       "      <td>127</td>\n",
       "      <td>296</td>\n",
       "      <td>None</td>\n",
       "      <td>5.000000</td>\n",
       "      <td>{'was_impossible': False}</td>\n",
       "      <td>Pulp Fiction</td>\n",
       "      <td>110912</td>\n",
       "      <td>Pulp Fiction</td>\n",
       "      <td>http://ia.media-imdb.com/images/M/MV5BMjE0ODk2...</td>\n",
       "      <td>1994</td>\n",
       "      <td>pulp_fiction</td>\n",
       "      <td>8.9</td>\n",
       "      <td>50</td>\n",
       "      <td>47</td>\n",
       "      <td>3</td>\n",
       "      <td>94</td>\n",
       "      <td>8.4</td>\n",
       "      <td>14</td>\n",
       "      <td>13</td>\n",
       "      <td>1</td>\n",
       "      <td>92</td>\n",
       "      <td>4.2</td>\n",
       "      <td>249269</td>\n",
       "      <td>95</td>\n",
       "      <td>http://content9.flixster.com/movie/10/88/65/10...</td>\n",
       "    </tr>\n",
       "    <tr>\n",
       "      <th>1</th>\n",
       "      <td>127</td>\n",
       "      <td>63082</td>\n",
       "      <td>None</td>\n",
       "      <td>4.940701</td>\n",
       "      <td>{'was_impossible': False}</td>\n",
       "      <td>Slumdog Millionaire</td>\n",
       "      <td>1010048</td>\n",
       "      <td>Slumdog Millionaire</td>\n",
       "      <td>http://ia.media-imdb.com/images/M/MV5BMTU2NTA5...</td>\n",
       "      <td>2008</td>\n",
       "      <td>slumdog_millionaire</td>\n",
       "      <td>8.2</td>\n",
       "      <td>220</td>\n",
       "      <td>206</td>\n",
       "      <td>14</td>\n",
       "      <td>93</td>\n",
       "      <td>8.2</td>\n",
       "      <td>38</td>\n",
       "      <td>36</td>\n",
       "      <td>2</td>\n",
       "      <td>94</td>\n",
       "      <td>4</td>\n",
       "      <td>328969</td>\n",
       "      <td>90</td>\n",
       "      <td>http://content9.flixster.com/movie/10/86/47/10...</td>\n",
       "    </tr>\n",
       "    <tr>\n",
       "      <th>2</th>\n",
       "      <td>127</td>\n",
       "      <td>2542</td>\n",
       "      <td>None</td>\n",
       "      <td>4.934788</td>\n",
       "      <td>{'was_impossible': False}</td>\n",
       "      <td>Lock, Stock and Two Smoking Barrels</td>\n",
       "      <td>120735</td>\n",
       "      <td>Lock &amp; Stock</td>\n",
       "      <td>http://ia.media-imdb.com/images/M/MV5BMTM5MTk2...</td>\n",
       "      <td>1998</td>\n",
       "      <td>NaN</td>\n",
       "      <td>6.8</td>\n",
       "      <td>51</td>\n",
       "      <td>37</td>\n",
       "      <td>14</td>\n",
       "      <td>72</td>\n",
       "      <td>5.9</td>\n",
       "      <td>14</td>\n",
       "      <td>8</td>\n",
       "      <td>6</td>\n",
       "      <td>57</td>\n",
       "      <td>4</td>\n",
       "      <td>81696</td>\n",
       "      <td>92</td>\n",
       "      <td>http://content6.flixster.com/movie/10/51/33/10...</td>\n",
       "    </tr>\n",
       "  </tbody>\n",
       "</table>\n",
       "</div>"
      ],
      "text/plain": [
       "   userID  movieID  r_ui    rating                    details  \\\n",
       "0     127      296  None  5.000000  {'was_impossible': False}   \n",
       "1     127    63082  None  4.940701  {'was_impossible': False}   \n",
       "2     127     2542  None  4.934788  {'was_impossible': False}   \n",
       "\n",
       "                                 title   imdbID         spanishTitle  \\\n",
       "0                         Pulp Fiction   110912         Pulp Fiction   \n",
       "1                  Slumdog Millionaire  1010048  Slumdog Millionaire   \n",
       "2  Lock, Stock and Two Smoking Barrels   120735         Lock & Stock   \n",
       "\n",
       "                                      imdbPictureURL  year  \\\n",
       "0  http://ia.media-imdb.com/images/M/MV5BMjE0ODk2...  1994   \n",
       "1  http://ia.media-imdb.com/images/M/MV5BMTU2NTA5...  2008   \n",
       "2  http://ia.media-imdb.com/images/M/MV5BMTM5MTk2...  1998   \n",
       "\n",
       "                  rtID rtAllCriticsRating rtAllCriticsNumReviews  \\\n",
       "0         pulp_fiction                8.9                     50   \n",
       "1  slumdog_millionaire                8.2                    220   \n",
       "2                  NaN                6.8                     51   \n",
       "\n",
       "  rtAllCriticsNumFresh rtAllCriticsNumRotten rtAllCriticsScore  \\\n",
       "0                   47                     3                94   \n",
       "1                  206                    14                93   \n",
       "2                   37                    14                72   \n",
       "\n",
       "  rtTopCriticsRating rtTopCriticsNumReviews rtTopCriticsNumFresh  \\\n",
       "0                8.4                     14                   13   \n",
       "1                8.2                     38                   36   \n",
       "2                5.9                     14                    8   \n",
       "\n",
       "  rtTopCriticsNumRotten rtTopCriticsScore rtAudienceRating  \\\n",
       "0                     1                92              4.2   \n",
       "1                     2                94                4   \n",
       "2                     6                57                4   \n",
       "\n",
       "  rtAudienceNumRatings rtAudienceScore  \\\n",
       "0               249269              95   \n",
       "1               328969              90   \n",
       "2                81696              92   \n",
       "\n",
       "                                        rtPictureURL  \n",
       "0  http://content9.flixster.com/movie/10/88/65/10...  \n",
       "1  http://content9.flixster.com/movie/10/86/47/10...  \n",
       "2  http://content6.flixster.com/movie/10/51/33/10...  "
      ]
     },
     "execution_count": 70,
     "metadata": {},
     "output_type": "execute_result"
    }
   ],
   "source": [
    "df_final.head(3)"
   ]
  },
  {
   "cell_type": "code",
   "execution_count": 71,
   "id": "6d3c27a2",
   "metadata": {},
   "outputs": [],
   "source": [
    "movies_list = df_final['title'].values"
   ]
  },
  {
   "cell_type": "code",
   "execution_count": 61,
   "id": "57d6d7cb",
   "metadata": {},
   "outputs": [
    {
     "data": {
      "text/plain": [
       "array(['Le notti di Cabiria', 'Das Leben der Anderen', 'La strada',\n",
       "       '28 Up', '3 Women',\n",
       "       'Dr. Strangelove or: How I Learned to Stop Worrying and Love the Bomb',\n",
       "       'Matewan', 'Tystnaden', 'Wallace & Gromit in The Wrong Trousers',\n",
       "       'Persona'], dtype=object)"
      ]
     },
     "execution_count": 61,
     "metadata": {},
     "output_type": "execute_result"
    }
   ],
   "source": [
    "movies_list"
   ]
  },
  {
   "cell_type": "code",
   "execution_count": 72,
   "id": "7f872b7c",
   "metadata": {},
   "outputs": [
    {
     "data": {
      "text/plain": [
       "array(['Pulp Fiction', 'Slumdog Millionaire',\n",
       "       'Lock, Stock and Two Smoking Barrels', 'The Usual Suspects',\n",
       "       'La meglio giovent�', 'Dom za vesanje', 'Festen', 'Goodfellas',\n",
       "       'Le notti di Cabiria', 'Fight Club'], dtype=object)"
      ]
     },
     "execution_count": 72,
     "metadata": {},
     "output_type": "execute_result"
    }
   ],
   "source": [
    "movies_list"
   ]
  },
  {
   "cell_type": "code",
   "execution_count": null,
   "id": "16667bce",
   "metadata": {},
   "outputs": [],
   "source": []
  },
  {
   "cell_type": "code",
   "execution_count": null,
   "id": "e6286e1b",
   "metadata": {},
   "outputs": [],
   "source": []
  },
  {
   "cell_type": "code",
   "execution_count": null,
   "id": "6f823d09",
   "metadata": {},
   "outputs": [],
   "source": []
  },
  {
   "cell_type": "code",
   "execution_count": null,
   "id": "a9784cba",
   "metadata": {},
   "outputs": [],
   "source": []
  },
  {
   "cell_type": "code",
   "execution_count": null,
   "id": "a8bf4f80",
   "metadata": {},
   "outputs": [],
   "source": []
  },
  {
   "cell_type": "code",
   "execution_count": null,
   "id": "82cec175",
   "metadata": {},
   "outputs": [],
   "source": []
  }
 ],
 "metadata": {
  "kernelspec": {
   "display_name": "Python 3",
   "language": "python",
   "name": "python3"
  },
  "language_info": {
   "codemirror_mode": {
    "name": "ipython",
    "version": 3
   },
   "file_extension": ".py",
   "mimetype": "text/x-python",
   "name": "python",
   "nbconvert_exporter": "python",
   "pygments_lexer": "ipython3",
   "version": "3.7.9"
  }
 },
 "nbformat": 4,
 "nbformat_minor": 5
}
