{
 "cells": [
  {
   "cell_type": "code",
   "execution_count": 1,
   "id": "02430fab",
   "metadata": {},
   "outputs": [
    {
     "name": "stderr",
     "output_type": "stream",
     "text": [
      "C:\\Users\\Acer\\anaconda3\\lib\\site-packages\\numpy\\_distributor_init.py:32: UserWarning: loaded more than 1 DLL from .libs:\n",
      "C:\\Users\\Acer\\anaconda3\\lib\\site-packages\\numpy\\.libs\\libopenblas.NOIJJG62EMASZI6NYURL6JBKM4EVBGM7.gfortran-win_amd64.dll\n",
      "C:\\Users\\Acer\\anaconda3\\lib\\site-packages\\numpy\\.libs\\libopenblas.QVLO2T66WEPI7JZ63PS3HMOHFEY472BC.gfortran-win_amd64.dll\n",
      "  stacklevel=1)\n"
     ]
    }
   ],
   "source": [
    "import pandas as pd\n",
    "import numpy as np\n",
    "import matplotlib.pyplot as plt\n",
    "import seaborn as sns\n",
    "import missingno as msn"
   ]
  },
  {
   "cell_type": "code",
   "execution_count": 2,
   "id": "6a623bad",
   "metadata": {},
   "outputs": [],
   "source": [
    "# ML Models\n",
    "from surprise import Reader\n",
    "from surprise import Dataset\n",
    "from surprise.model_selection import cross_validate\n",
    "from surprise import NormalPredictor\n",
    "from surprise import KNNBasic\n",
    "from surprise import KNNWithMeans\n",
    "from surprise import KNNWithZScore\n",
    "from surprise import KNNBaseline\n",
    "from surprise import SVD\n",
    "from surprise import BaselineOnly\n",
    "from surprise import SVDpp\n",
    "from surprise import NMF\n",
    "from surprise import SlopeOne\n",
    "from surprise import CoClustering\n",
    "from surprise.accuracy import rmse\n",
    "from surprise import accuracy\n",
    "from sklearn.feature_extraction.text import CountVectorizer\n",
    "from sklearn.feature_extraction.text import TfidfVectorizer\n",
    "from sklearn.metrics.pairwise import cosine_similarity\n",
    "\n",
    "# ML Pre processing\n",
    "from surprise.model_selection import train_test_split\n",
    "from sklearn.preprocessing import StandardScaler\n",
    "\n",
    "# Hyperparameter tuning\n",
    "from surprise.model_selection import GridSearchCV"
   ]
  },
  {
   "cell_type": "code",
   "execution_count": 3,
   "id": "c5f21e0f",
   "metadata": {},
   "outputs": [],
   "source": [
    "df_ratings = pd.read_table(\"dataSet/user_ratedmovies.dat\",sep=\"\\t\")"
   ]
  },
  {
   "cell_type": "code",
   "execution_count": 4,
   "id": "2df0c939",
   "metadata": {},
   "outputs": [
    {
     "data": {
      "text/html": [
       "<div>\n",
       "<style scoped>\n",
       "    .dataframe tbody tr th:only-of-type {\n",
       "        vertical-align: middle;\n",
       "    }\n",
       "\n",
       "    .dataframe tbody tr th {\n",
       "        vertical-align: top;\n",
       "    }\n",
       "\n",
       "    .dataframe thead th {\n",
       "        text-align: right;\n",
       "    }\n",
       "</style>\n",
       "<table border=\"1\" class=\"dataframe\">\n",
       "  <thead>\n",
       "    <tr style=\"text-align: right;\">\n",
       "      <th></th>\n",
       "      <th>userID</th>\n",
       "      <th>movieID</th>\n",
       "      <th>rating</th>\n",
       "      <th>date_day</th>\n",
       "      <th>date_month</th>\n",
       "      <th>date_year</th>\n",
       "      <th>date_hour</th>\n",
       "      <th>date_minute</th>\n",
       "      <th>date_second</th>\n",
       "    </tr>\n",
       "  </thead>\n",
       "  <tbody>\n",
       "    <tr>\n",
       "      <th>0</th>\n",
       "      <td>75</td>\n",
       "      <td>3</td>\n",
       "      <td>1.0</td>\n",
       "      <td>29</td>\n",
       "      <td>10</td>\n",
       "      <td>2006</td>\n",
       "      <td>23</td>\n",
       "      <td>17</td>\n",
       "      <td>16</td>\n",
       "    </tr>\n",
       "    <tr>\n",
       "      <th>1</th>\n",
       "      <td>75</td>\n",
       "      <td>32</td>\n",
       "      <td>4.5</td>\n",
       "      <td>29</td>\n",
       "      <td>10</td>\n",
       "      <td>2006</td>\n",
       "      <td>23</td>\n",
       "      <td>23</td>\n",
       "      <td>44</td>\n",
       "    </tr>\n",
       "  </tbody>\n",
       "</table>\n",
       "</div>"
      ],
      "text/plain": [
       "   userID  movieID  rating  date_day  date_month  date_year  date_hour  \\\n",
       "0      75        3     1.0        29          10       2006         23   \n",
       "1      75       32     4.5        29          10       2006         23   \n",
       "\n",
       "   date_minute  date_second  \n",
       "0           17           16  \n",
       "1           23           44  "
      ]
     },
     "execution_count": 4,
     "metadata": {},
     "output_type": "execute_result"
    }
   ],
   "source": [
    "df_ratings.head(2)"
   ]
  },
  {
   "cell_type": "code",
   "execution_count": 5,
   "id": "8bd1a67e",
   "metadata": {},
   "outputs": [],
   "source": [
    "df_temp = df_ratings[['userID','movieID','rating']]\n",
    "df_temp.to_csv('modified_rating_dataSet.csv',index=False)"
   ]
  },
  {
   "cell_type": "code",
   "execution_count": 6,
   "id": "587c2775",
   "metadata": {},
   "outputs": [],
   "source": [
    "df_movies = pd.read_table(\"dataSet/movies.dat\",sep=\"\\t\")\n",
    "pd.set_option('display.max_columns',None)"
   ]
  },
  {
   "cell_type": "code",
   "execution_count": 7,
   "id": "2df26afe",
   "metadata": {},
   "outputs": [],
   "source": [
    "df_movies.rename(columns={'id': 'movieID'}, inplace=True)"
   ]
  },
  {
   "cell_type": "code",
   "execution_count": 8,
   "id": "d02ecf82",
   "metadata": {},
   "outputs": [
    {
     "data": {
      "text/html": [
       "<div>\n",
       "<style scoped>\n",
       "    .dataframe tbody tr th:only-of-type {\n",
       "        vertical-align: middle;\n",
       "    }\n",
       "\n",
       "    .dataframe tbody tr th {\n",
       "        vertical-align: top;\n",
       "    }\n",
       "\n",
       "    .dataframe thead th {\n",
       "        text-align: right;\n",
       "    }\n",
       "</style>\n",
       "<table border=\"1\" class=\"dataframe\">\n",
       "  <thead>\n",
       "    <tr style=\"text-align: right;\">\n",
       "      <th></th>\n",
       "      <th>movieID</th>\n",
       "      <th>title</th>\n",
       "      <th>imdbID</th>\n",
       "      <th>spanishTitle</th>\n",
       "      <th>imdbPictureURL</th>\n",
       "      <th>year</th>\n",
       "      <th>rtID</th>\n",
       "      <th>rtAllCriticsRating</th>\n",
       "      <th>rtAllCriticsNumReviews</th>\n",
       "      <th>rtAllCriticsNumFresh</th>\n",
       "      <th>rtAllCriticsNumRotten</th>\n",
       "      <th>rtAllCriticsScore</th>\n",
       "      <th>rtTopCriticsRating</th>\n",
       "      <th>rtTopCriticsNumReviews</th>\n",
       "      <th>rtTopCriticsNumFresh</th>\n",
       "      <th>rtTopCriticsNumRotten</th>\n",
       "      <th>rtTopCriticsScore</th>\n",
       "      <th>rtAudienceRating</th>\n",
       "      <th>rtAudienceNumRatings</th>\n",
       "      <th>rtAudienceScore</th>\n",
       "      <th>rtPictureURL</th>\n",
       "    </tr>\n",
       "  </thead>\n",
       "  <tbody>\n",
       "    <tr>\n",
       "      <th>0</th>\n",
       "      <td>1</td>\n",
       "      <td>Toy story</td>\n",
       "      <td>114709</td>\n",
       "      <td>Toy story (juguetes)</td>\n",
       "      <td>http://ia.media-imdb.com/images/M/MV5BMTMwNDU0...</td>\n",
       "      <td>1995</td>\n",
       "      <td>toy_story</td>\n",
       "      <td>9</td>\n",
       "      <td>73</td>\n",
       "      <td>73</td>\n",
       "      <td>0</td>\n",
       "      <td>100</td>\n",
       "      <td>8.5</td>\n",
       "      <td>17</td>\n",
       "      <td>17</td>\n",
       "      <td>0</td>\n",
       "      <td>100</td>\n",
       "      <td>3.7</td>\n",
       "      <td>102338</td>\n",
       "      <td>81</td>\n",
       "      <td>http://content7.flixster.com/movie/10/93/63/10...</td>\n",
       "    </tr>\n",
       "    <tr>\n",
       "      <th>1</th>\n",
       "      <td>2</td>\n",
       "      <td>Jumanji</td>\n",
       "      <td>113497</td>\n",
       "      <td>Jumanji</td>\n",
       "      <td>http://ia.media-imdb.com/images/M/MV5BMzM5NjE1...</td>\n",
       "      <td>1995</td>\n",
       "      <td>1068044-jumanji</td>\n",
       "      <td>5.6</td>\n",
       "      <td>28</td>\n",
       "      <td>13</td>\n",
       "      <td>15</td>\n",
       "      <td>46</td>\n",
       "      <td>5.8</td>\n",
       "      <td>5</td>\n",
       "      <td>2</td>\n",
       "      <td>3</td>\n",
       "      <td>40</td>\n",
       "      <td>3.2</td>\n",
       "      <td>44587</td>\n",
       "      <td>61</td>\n",
       "      <td>http://content8.flixster.com/movie/56/79/73/56...</td>\n",
       "    </tr>\n",
       "  </tbody>\n",
       "</table>\n",
       "</div>"
      ],
      "text/plain": [
       "   movieID      title  imdbID          spanishTitle  \\\n",
       "0        1  Toy story  114709  Toy story (juguetes)   \n",
       "1        2    Jumanji  113497               Jumanji   \n",
       "\n",
       "                                      imdbPictureURL  year             rtID  \\\n",
       "0  http://ia.media-imdb.com/images/M/MV5BMTMwNDU0...  1995        toy_story   \n",
       "1  http://ia.media-imdb.com/images/M/MV5BMzM5NjE1...  1995  1068044-jumanji   \n",
       "\n",
       "  rtAllCriticsRating rtAllCriticsNumReviews rtAllCriticsNumFresh  \\\n",
       "0                  9                     73                   73   \n",
       "1                5.6                     28                   13   \n",
       "\n",
       "  rtAllCriticsNumRotten rtAllCriticsScore rtTopCriticsRating  \\\n",
       "0                     0               100                8.5   \n",
       "1                    15                46                5.8   \n",
       "\n",
       "  rtTopCriticsNumReviews rtTopCriticsNumFresh rtTopCriticsNumRotten  \\\n",
       "0                     17                   17                     0   \n",
       "1                      5                    2                     3   \n",
       "\n",
       "  rtTopCriticsScore rtAudienceRating rtAudienceNumRatings rtAudienceScore  \\\n",
       "0               100              3.7               102338              81   \n",
       "1                40              3.2                44587              61   \n",
       "\n",
       "                                        rtPictureURL  \n",
       "0  http://content7.flixster.com/movie/10/93/63/10...  \n",
       "1  http://content8.flixster.com/movie/56/79/73/56...  "
      ]
     },
     "execution_count": 8,
     "metadata": {},
     "output_type": "execute_result"
    }
   ],
   "source": [
    "df_movies.head(2)"
   ]
  },
  {
   "cell_type": "code",
   "execution_count": 9,
   "id": "1c6632bd",
   "metadata": {},
   "outputs": [],
   "source": [
    "#df_movies.isnull().sum()"
   ]
  },
  {
   "cell_type": "code",
   "execution_count": 10,
   "id": "3b6153c8",
   "metadata": {},
   "outputs": [],
   "source": [
    "df_temp2 = df_movies[['movieID','title']]\n",
    "#df_temp2.to_csv('modified_movies_dataSet.csv',index=False)"
   ]
  },
  {
   "cell_type": "code",
   "execution_count": 11,
   "id": "d45e60c1",
   "metadata": {},
   "outputs": [
    {
     "data": {
      "text/html": [
       "<div>\n",
       "<style scoped>\n",
       "    .dataframe tbody tr th:only-of-type {\n",
       "        vertical-align: middle;\n",
       "    }\n",
       "\n",
       "    .dataframe tbody tr th {\n",
       "        vertical-align: top;\n",
       "    }\n",
       "\n",
       "    .dataframe thead th {\n",
       "        text-align: right;\n",
       "    }\n",
       "</style>\n",
       "<table border=\"1\" class=\"dataframe\">\n",
       "  <thead>\n",
       "    <tr style=\"text-align: right;\">\n",
       "      <th></th>\n",
       "      <th>movieID</th>\n",
       "      <th>title</th>\n",
       "    </tr>\n",
       "  </thead>\n",
       "  <tbody>\n",
       "    <tr>\n",
       "      <th>0</th>\n",
       "      <td>1</td>\n",
       "      <td>Toy story</td>\n",
       "    </tr>\n",
       "    <tr>\n",
       "      <th>1</th>\n",
       "      <td>2</td>\n",
       "      <td>Jumanji</td>\n",
       "    </tr>\n",
       "  </tbody>\n",
       "</table>\n",
       "</div>"
      ],
      "text/plain": [
       "   movieID      title\n",
       "0        1  Toy story\n",
       "1        2    Jumanji"
      ]
     },
     "execution_count": 11,
     "metadata": {},
     "output_type": "execute_result"
    }
   ],
   "source": [
    "df_temp2.head(2)"
   ]
  },
  {
   "cell_type": "code",
   "execution_count": 12,
   "id": "2ee50b97",
   "metadata": {},
   "outputs": [],
   "source": [
    "is_duplicate = df_temp2.duplicated()"
   ]
  },
  {
   "cell_type": "code",
   "execution_count": 13,
   "id": "6ae443dd",
   "metadata": {},
   "outputs": [
    {
     "name": "stdout",
     "output_type": "stream",
     "text": [
      "Number of duplicate records: 0\n"
     ]
    }
   ],
   "source": [
    "print(\"Number of duplicate records:\", sum(is_duplicate))"
   ]
  },
  {
   "cell_type": "code",
   "execution_count": 14,
   "id": "2aa0a783",
   "metadata": {},
   "outputs": [],
   "source": [
    "df_temp2.to_csv('modified_movies_dataSet.csv',index=False)"
   ]
  },
  {
   "cell_type": "code",
   "execution_count": 15,
   "id": "a793c3a1",
   "metadata": {},
   "outputs": [],
   "source": [
    "df = df_ratings[['userID','movieID','rating']]"
   ]
  },
  {
   "cell_type": "code",
   "execution_count": 16,
   "id": "6925cf78",
   "metadata": {},
   "outputs": [
    {
     "data": {
      "text/html": [
       "<div>\n",
       "<style scoped>\n",
       "    .dataframe tbody tr th:only-of-type {\n",
       "        vertical-align: middle;\n",
       "    }\n",
       "\n",
       "    .dataframe tbody tr th {\n",
       "        vertical-align: top;\n",
       "    }\n",
       "\n",
       "    .dataframe thead th {\n",
       "        text-align: right;\n",
       "    }\n",
       "</style>\n",
       "<table border=\"1\" class=\"dataframe\">\n",
       "  <thead>\n",
       "    <tr style=\"text-align: right;\">\n",
       "      <th></th>\n",
       "      <th>userID</th>\n",
       "      <th>movieID</th>\n",
       "      <th>rating</th>\n",
       "    </tr>\n",
       "  </thead>\n",
       "  <tbody>\n",
       "    <tr>\n",
       "      <th>0</th>\n",
       "      <td>75</td>\n",
       "      <td>3</td>\n",
       "      <td>1.0</td>\n",
       "    </tr>\n",
       "    <tr>\n",
       "      <th>1</th>\n",
       "      <td>75</td>\n",
       "      <td>32</td>\n",
       "      <td>4.5</td>\n",
       "    </tr>\n",
       "    <tr>\n",
       "      <th>2</th>\n",
       "      <td>75</td>\n",
       "      <td>110</td>\n",
       "      <td>4.0</td>\n",
       "    </tr>\n",
       "    <tr>\n",
       "      <th>3</th>\n",
       "      <td>75</td>\n",
       "      <td>160</td>\n",
       "      <td>2.0</td>\n",
       "    </tr>\n",
       "  </tbody>\n",
       "</table>\n",
       "</div>"
      ],
      "text/plain": [
       "   userID  movieID  rating\n",
       "0      75        3     1.0\n",
       "1      75       32     4.5\n",
       "2      75      110     4.0\n",
       "3      75      160     2.0"
      ]
     },
     "execution_count": 16,
     "metadata": {},
     "output_type": "execute_result"
    }
   ],
   "source": [
    "df.head(4)"
   ]
  },
  {
   "cell_type": "code",
   "execution_count": 17,
   "id": "1d9cfed3",
   "metadata": {},
   "outputs": [
    {
     "data": {
      "text/plain": [
       "userID     0\n",
       "movieID    0\n",
       "rating     0\n",
       "dtype: int64"
      ]
     },
     "execution_count": 17,
     "metadata": {},
     "output_type": "execute_result"
    }
   ],
   "source": [
    "df.isnull().sum()"
   ]
  },
  {
   "cell_type": "code",
   "execution_count": 18,
   "id": "d73ed1dc",
   "metadata": {},
   "outputs": [],
   "source": [
    "is_duplicate = df.duplicated()"
   ]
  },
  {
   "cell_type": "code",
   "execution_count": 19,
   "id": "9409f7c6",
   "metadata": {},
   "outputs": [
    {
     "name": "stdout",
     "output_type": "stream",
     "text": [
      "Number of duplicate records: 0\n"
     ]
    }
   ],
   "source": [
    "print(\"Number of duplicate records:\", sum(is_duplicate))"
   ]
  },
  {
   "cell_type": "markdown",
   "id": "a33a48ad",
   "metadata": {},
   "source": [
    "### Models Training"
   ]
  },
  {
   "cell_type": "code",
   "execution_count": 22,
   "id": "8f0e3e6a",
   "metadata": {},
   "outputs": [],
   "source": [
    "# surprise reader API to read the dataset\n",
    "reader = Reader()"
   ]
  },
  {
   "cell_type": "code",
   "execution_count": 23,
   "id": "6496ca84",
   "metadata": {},
   "outputs": [],
   "source": [
    "data = Dataset.load_from_df(df_ratings[['userID','movieID','rating']], reader)\n",
    "#data.split(n_folds=5)"
   ]
  },
  {
   "cell_type": "code",
   "execution_count": 37,
   "id": "5cbf0e5b",
   "metadata": {},
   "outputs": [
    {
     "data": {
      "text/plain": [
       "\"\\nbenchmark = []\\n# Iterate over all algorithms\\nfor algorithm in [SVD(), SVDpp(), SlopeOne(), NMF(), NormalPredictor(), KNNBaseline(), KNNBasic(), KNNWithMeans(), KNNWithZScore(), BaselineOnly(), CoClustering()]:\\n    # Perform cross validation\\n    results = cross_validate(algorithm, data, measures=['RMSE'], cv=3, verbose=False)\\n    \\n    # Get results & append algorithm name\\n    tmp = pd.DataFrame.from_dict(results).mean(axis=0)\\n    tmp = tmp.append(pd.Series([str(algorithm).split(' ')[0].split('.')[-1]], index=['Algorithm']))\\n    benchmark.append(tmp)\\n    \\npd.DataFrame(benchmark).set_index('Algorithm').sort_values('test_rmse') \\n\""
      ]
     },
     "execution_count": 37,
     "metadata": {},
     "output_type": "execute_result"
    }
   ],
   "source": [
    "'''\n",
    "benchmark = []\n",
    "# Iterate over all algorithms\n",
    "for algorithm in [SVD(), SVDpp(), SlopeOne(), NMF(), NormalPredictor(), KNNBaseline(), KNNBasic(), KNNWithMeans(), KNNWithZScore(), BaselineOnly(), CoClustering()]:\n",
    "    # Perform cross validation\n",
    "    results = cross_validate(algorithm, data, measures=['RMSE'], cv=3, verbose=False)\n",
    "    \n",
    "    # Get results & append algorithm name\n",
    "    tmp = pd.DataFrame.from_dict(results).mean(axis=0)\n",
    "    tmp = tmp.append(pd.Series([str(algorithm).split(' ')[0].split('.')[-1]], index=['Algorithm']))\n",
    "    benchmark.append(tmp)\n",
    "    \n",
    "pd.DataFrame(benchmark).set_index('Algorithm').sort_values('test_rmse') \n",
    "'''"
   ]
  },
  {
   "cell_type": "markdown",
   "id": "e3ae158d",
   "metadata": {},
   "source": [
    "### Hyperparameter Tuning"
   ]
  },
  {
   "cell_type": "code",
   "execution_count": 38,
   "id": "3fd09eb6",
   "metadata": {},
   "outputs": [
    {
     "name": "stdout",
     "output_type": "stream",
     "text": [
      "0.8294402485393714\n",
      "{'n_epochs': 12, 'lr_all': 0.005, 'reg_all': 0.4}\n"
     ]
    }
   ],
   "source": [
    "param_grid = {'n_epochs': [10,12], 'lr_all': [0.002, 0.005],\n",
    "              'reg_all': [0.4, 0.5]}\n",
    "gs = GridSearchCV(SVD, param_grid, measures=['rmse', 'mae'], cv=3)\n",
    "\n",
    "gs.fit(data)"
   ]
  },
  {
   "cell_type": "code",
   "execution_count": 39,
   "id": "fc52aba2",
   "metadata": {},
   "outputs": [
    {
     "name": "stdout",
     "output_type": "stream",
     "text": [
      "0.8294402485393714\n"
     ]
    }
   ],
   "source": [
    "# best RMSE score\n",
    "print(gs.best_score['rmse'])"
   ]
  },
  {
   "cell_type": "code",
   "execution_count": 40,
   "id": "af3e58bc",
   "metadata": {},
   "outputs": [
    {
     "name": "stdout",
     "output_type": "stream",
     "text": [
      "{'n_epochs': 12, 'lr_all': 0.005, 'reg_all': 0.4}\n"
     ]
    }
   ],
   "source": [
    "# combination of parameters that gave the best RMSE score\n",
    "print(gs.best_params['rmse'])"
   ]
  },
  {
   "cell_type": "code",
   "execution_count": 41,
   "id": "71a5517d",
   "metadata": {},
   "outputs": [],
   "source": [
    "algo = gs.best_estimator['rmse']"
   ]
  },
  {
   "cell_type": "code",
   "execution_count": 42,
   "id": "7553ae5c",
   "metadata": {},
   "outputs": [],
   "source": [
    "# Data split 9/1\n",
    "trainset, testset = train_test_split(data, test_size=0.01)"
   ]
  },
  {
   "cell_type": "code",
   "execution_count": 43,
   "id": "cf8246aa",
   "metadata": {},
   "outputs": [
    {
     "data": {
      "text/plain": [
       "<surprise.prediction_algorithms.matrix_factorization.SVD at 0x1f3e3131c08>"
      ]
     },
     "execution_count": 43,
     "metadata": {},
     "output_type": "execute_result"
    }
   ],
   "source": [
    "# Fitting our trainset\n",
    "algo.fit(trainset)"
   ]
  },
  {
   "cell_type": "code",
   "execution_count": 44,
   "id": "2bbad39d",
   "metadata": {},
   "outputs": [],
   "source": [
    "predictions = algo.test(testset) "
   ]
  },
  {
   "cell_type": "code",
   "execution_count": 45,
   "id": "ebf99ccb",
   "metadata": {},
   "outputs": [
    {
     "name": "stdout",
     "output_type": "stream",
     "text": [
      "RMSE: 0.8103\n"
     ]
    },
    {
     "data": {
      "text/plain": [
       "0.8103492524690616"
      ]
     },
     "execution_count": 45,
     "metadata": {},
     "output_type": "execute_result"
    }
   ],
   "source": [
    "accuracy.rmse(predictions)"
   ]
  },
  {
   "cell_type": "code",
   "execution_count": 46,
   "id": "a88067e7",
   "metadata": {},
   "outputs": [
    {
     "name": "stdout",
     "output_type": "stream",
     "text": [
      "MAE:  0.6246\n"
     ]
    },
    {
     "data": {
      "text/plain": [
       "0.6246126966678506"
      ]
     },
     "execution_count": 46,
     "metadata": {},
     "output_type": "execute_result"
    }
   ],
   "source": [
    "accuracy.mae(predictions)"
   ]
  },
  {
   "cell_type": "code",
   "execution_count": 48,
   "id": "88835e11",
   "metadata": {},
   "outputs": [],
   "source": [
    "test = pd.DataFrame(predictions)"
   ]
  },
  {
   "cell_type": "code",
   "execution_count": 47,
   "id": "64c496bf",
   "metadata": {},
   "outputs": [
    {
     "data": {
      "text/html": [
       "<div>\n",
       "<style scoped>\n",
       "    .dataframe tbody tr th:only-of-type {\n",
       "        vertical-align: middle;\n",
       "    }\n",
       "\n",
       "    .dataframe tbody tr th {\n",
       "        vertical-align: top;\n",
       "    }\n",
       "\n",
       "    .dataframe thead th {\n",
       "        text-align: right;\n",
       "    }\n",
       "</style>\n",
       "<table border=\"1\" class=\"dataframe\">\n",
       "  <thead>\n",
       "    <tr style=\"text-align: right;\">\n",
       "      <th></th>\n",
       "      <th>uid</th>\n",
       "      <th>iid</th>\n",
       "      <th>r_ui</th>\n",
       "      <th>est</th>\n",
       "      <th>details</th>\n",
       "    </tr>\n",
       "  </thead>\n",
       "  <tbody>\n",
       "    <tr>\n",
       "      <th>0</th>\n",
       "      <td>37934</td>\n",
       "      <td>376</td>\n",
       "      <td>3.0</td>\n",
       "      <td>3.103597</td>\n",
       "      <td>{'was_impossible': False}</td>\n",
       "    </tr>\n",
       "    <tr>\n",
       "      <th>1</th>\n",
       "      <td>68988</td>\n",
       "      <td>53956</td>\n",
       "      <td>4.0</td>\n",
       "      <td>3.545662</td>\n",
       "      <td>{'was_impossible': False}</td>\n",
       "    </tr>\n",
       "  </tbody>\n",
       "</table>\n",
       "</div>"
      ],
      "text/plain": [
       "     uid    iid  r_ui       est                    details\n",
       "0  37934    376   3.0  3.103597  {'was_impossible': False}\n",
       "1  68988  53956   4.0  3.545662  {'was_impossible': False}"
      ]
     },
     "execution_count": 47,
     "metadata": {},
     "output_type": "execute_result"
    }
   ],
   "source": [
    "test.head(2)"
   ]
  },
  {
   "cell_type": "code",
   "execution_count": 49,
   "id": "01ea0be2",
   "metadata": {},
   "outputs": [],
   "source": [
    "import pickle\n",
    "#open a file, where you ant to store the data\n",
    "file = open('SVD_modelv3.pkl', 'wb')\n",
    "# dump information to that file\n",
    "pickle.dump(algo, file)\n",
    "file.close()"
   ]
  },
  {
   "cell_type": "code",
   "execution_count": 50,
   "id": "09638b45",
   "metadata": {},
   "outputs": [
    {
     "data": {
      "text/html": [
       "<div>\n",
       "<style scoped>\n",
       "    .dataframe tbody tr th:only-of-type {\n",
       "        vertical-align: middle;\n",
       "    }\n",
       "\n",
       "    .dataframe tbody tr th {\n",
       "        vertical-align: top;\n",
       "    }\n",
       "\n",
       "    .dataframe thead th {\n",
       "        text-align: right;\n",
       "    }\n",
       "</style>\n",
       "<table border=\"1\" class=\"dataframe\">\n",
       "  <thead>\n",
       "    <tr style=\"text-align: right;\">\n",
       "      <th></th>\n",
       "      <th>userID</th>\n",
       "      <th>movieID</th>\n",
       "      <th>rating</th>\n",
       "    </tr>\n",
       "  </thead>\n",
       "  <tbody>\n",
       "    <tr>\n",
       "      <th>854913</th>\n",
       "      <td>71525</td>\n",
       "      <td>50</td>\n",
       "      <td>5.0</td>\n",
       "    </tr>\n",
       "    <tr>\n",
       "      <th>854914</th>\n",
       "      <td>71525</td>\n",
       "      <td>110</td>\n",
       "      <td>5.0</td>\n",
       "    </tr>\n",
       "    <tr>\n",
       "      <th>854915</th>\n",
       "      <td>71525</td>\n",
       "      <td>111</td>\n",
       "      <td>4.0</td>\n",
       "    </tr>\n",
       "    <tr>\n",
       "      <th>854916</th>\n",
       "      <td>71525</td>\n",
       "      <td>165</td>\n",
       "      <td>5.0</td>\n",
       "    </tr>\n",
       "    <tr>\n",
       "      <th>854917</th>\n",
       "      <td>71525</td>\n",
       "      <td>168</td>\n",
       "      <td>3.0</td>\n",
       "    </tr>\n",
       "    <tr>\n",
       "      <th>...</th>\n",
       "      <td>...</td>\n",
       "      <td>...</td>\n",
       "      <td>...</td>\n",
       "    </tr>\n",
       "    <tr>\n",
       "      <th>855322</th>\n",
       "      <td>71525</td>\n",
       "      <td>49649</td>\n",
       "      <td>3.0</td>\n",
       "    </tr>\n",
       "    <tr>\n",
       "      <th>855323</th>\n",
       "      <td>71525</td>\n",
       "      <td>50794</td>\n",
       "      <td>3.0</td>\n",
       "    </tr>\n",
       "    <tr>\n",
       "      <th>855324</th>\n",
       "      <td>71525</td>\n",
       "      <td>51077</td>\n",
       "      <td>3.0</td>\n",
       "    </tr>\n",
       "    <tr>\n",
       "      <th>855325</th>\n",
       "      <td>71525</td>\n",
       "      <td>51575</td>\n",
       "      <td>4.0</td>\n",
       "    </tr>\n",
       "    <tr>\n",
       "      <th>855326</th>\n",
       "      <td>71525</td>\n",
       "      <td>51662</td>\n",
       "      <td>4.5</td>\n",
       "    </tr>\n",
       "  </tbody>\n",
       "</table>\n",
       "<p>414 rows × 3 columns</p>\n",
       "</div>"
      ],
      "text/plain": [
       "        userID  movieID  rating\n",
       "854913   71525       50     5.0\n",
       "854914   71525      110     5.0\n",
       "854915   71525      111     4.0\n",
       "854916   71525      165     5.0\n",
       "854917   71525      168     3.0\n",
       "...        ...      ...     ...\n",
       "855322   71525    49649     3.0\n",
       "855323   71525    50794     3.0\n",
       "855324   71525    51077     3.0\n",
       "855325   71525    51575     4.0\n",
       "855326   71525    51662     4.5\n",
       "\n",
       "[414 rows x 3 columns]"
      ]
     },
     "execution_count": 50,
     "metadata": {},
     "output_type": "execute_result"
    }
   ],
   "source": [
    " df[df['userID'] == 71525]"
   ]
  },
  {
   "cell_type": "code",
   "execution_count": 51,
   "id": "29cc4493",
   "metadata": {},
   "outputs": [
    {
     "data": {
      "text/plain": [
       "Prediction(uid=71525, iid=50, r_ui=None, est=4.4169620042696645, details={'was_impossible': False})"
      ]
     },
     "execution_count": 51,
     "metadata": {},
     "output_type": "execute_result"
    }
   ],
   "source": [
    "algo.predict(71525,50)"
   ]
  },
  {
   "cell_type": "code",
   "execution_count": 53,
   "id": "87afb22b",
   "metadata": {},
   "outputs": [
    {
     "data": {
      "text/plain": [
       "Prediction(uid=1, iid=5107, r_ui=None, est=3.141312353080428, details={'was_impossible': False})"
      ]
     },
     "execution_count": 53,
     "metadata": {},
     "output_type": "execute_result"
    }
   ],
   "source": [
    "# user is not in dataset\n",
    "algo.predict(1, 5107)"
   ]
  },
  {
   "cell_type": "code",
   "execution_count": 73,
   "id": "51e8ae3d",
   "metadata": {},
   "outputs": [],
   "source": [
    "id_list = df['userID'].unique()"
   ]
  },
  {
   "cell_type": "code",
   "execution_count": 85,
   "id": "765af10a",
   "metadata": {},
   "outputs": [
    {
     "data": {
      "text/plain": [
       "3304"
      ]
     },
     "execution_count": 85,
     "metadata": {},
     "output_type": "execute_result"
    }
   ],
   "source": [
    "id_list[104]"
   ]
  },
  {
   "cell_type": "code",
   "execution_count": 54,
   "id": "6a297ce7",
   "metadata": {},
   "outputs": [],
   "source": [
    "def get_recommendations(uid):\n",
    "    prediction_list = []\n",
    "    for mid in df_ratings['movieID'].unique():\n",
    "        predic = algo.predict(uid,mid)\n",
    "        prediction_list.append(predic)\n",
    "    return prediction_list  "
   ]
  },
  {
   "cell_type": "code",
   "execution_count": 86,
   "id": "69b81f47",
   "metadata": {},
   "outputs": [],
   "source": [
    "prediction = get_recommendations(3304)"
   ]
  },
  {
   "cell_type": "code",
   "execution_count": 87,
   "id": "3f59d5fa",
   "metadata": {},
   "outputs": [
    {
     "data": {
      "text/plain": [
       "[Prediction(uid=3304, iid=3, r_ui=None, est=2.449587750733541, details={'was_impossible': False}),\n",
       " Prediction(uid=3304, iid=32, r_ui=None, est=3.244791859728231, details={'was_impossible': False}),\n",
       " Prediction(uid=3304, iid=110, r_ui=None, est=3.1521091256738325, details={'was_impossible': False}),\n",
       " Prediction(uid=3304, iid=160, r_ui=None, est=2.0519005963602037, details={'was_impossible': False}),\n",
       " Prediction(uid=3304, iid=163, r_ui=None, est=2.7799481384502407, details={'was_impossible': False})]"
      ]
     },
     "execution_count": 87,
     "metadata": {},
     "output_type": "execute_result"
    }
   ],
   "source": [
    "prediction[:5]"
   ]
  },
  {
   "cell_type": "code",
   "execution_count": 88,
   "id": "86a2e5e2",
   "metadata": {},
   "outputs": [],
   "source": [
    "df_pred=pd.DataFrame(prediction)"
   ]
  },
  {
   "cell_type": "code",
   "execution_count": 89,
   "id": "4486fe10",
   "metadata": {},
   "outputs": [],
   "source": [
    "# Renaming our predictions to original names\n",
    "df_pred=df_pred.rename(columns={'uid':'userID', 'iid':'movieID','est':'rating'}).sort_values('rating',ascending=False).head(10)"
   ]
  },
  {
   "cell_type": "code",
   "execution_count": 90,
   "id": "c748fc3b",
   "metadata": {},
   "outputs": [
    {
     "data": {
      "text/html": [
       "<div>\n",
       "<style scoped>\n",
       "    .dataframe tbody tr th:only-of-type {\n",
       "        vertical-align: middle;\n",
       "    }\n",
       "\n",
       "    .dataframe tbody tr th {\n",
       "        vertical-align: top;\n",
       "    }\n",
       "\n",
       "    .dataframe thead th {\n",
       "        text-align: right;\n",
       "    }\n",
       "</style>\n",
       "<table border=\"1\" class=\"dataframe\">\n",
       "  <thead>\n",
       "    <tr style=\"text-align: right;\">\n",
       "      <th></th>\n",
       "      <th>userID</th>\n",
       "      <th>movieID</th>\n",
       "      <th>r_ui</th>\n",
       "      <th>rating</th>\n",
       "      <th>details</th>\n",
       "    </tr>\n",
       "  </thead>\n",
       "  <tbody>\n",
       "    <tr>\n",
       "      <th>953</th>\n",
       "      <td>3304</td>\n",
       "      <td>2351</td>\n",
       "      <td>None</td>\n",
       "      <td>3.486928</td>\n",
       "      <td>{'was_impossible': False}</td>\n",
       "    </tr>\n",
       "    <tr>\n",
       "      <th>94</th>\n",
       "      <td>3304</td>\n",
       "      <td>858</td>\n",
       "      <td>None</td>\n",
       "      <td>3.473173</td>\n",
       "      <td>{'was_impossible': False}</td>\n",
       "    </tr>\n",
       "    <tr>\n",
       "      <th>696</th>\n",
       "      <td>3304</td>\n",
       "      <td>6669</td>\n",
       "      <td>None</td>\n",
       "      <td>3.466626</td>\n",
       "      <td>{'was_impossible': False}</td>\n",
       "    </tr>\n",
       "    <tr>\n",
       "      <th>6390</th>\n",
       "      <td>3304</td>\n",
       "      <td>668</td>\n",
       "      <td>None</td>\n",
       "      <td>3.452529</td>\n",
       "      <td>{'was_impossible': False}</td>\n",
       "    </tr>\n",
       "    <tr>\n",
       "      <th>70</th>\n",
       "      <td>3304</td>\n",
       "      <td>318</td>\n",
       "      <td>None</td>\n",
       "      <td>3.450031</td>\n",
       "      <td>{'was_impossible': False}</td>\n",
       "    </tr>\n",
       "    <tr>\n",
       "      <th>258</th>\n",
       "      <td>3304</td>\n",
       "      <td>2360</td>\n",
       "      <td>None</td>\n",
       "      <td>3.446603</td>\n",
       "      <td>{'was_impossible': False}</td>\n",
       "    </tr>\n",
       "    <tr>\n",
       "      <th>550</th>\n",
       "      <td>3304</td>\n",
       "      <td>50</td>\n",
       "      <td>None</td>\n",
       "      <td>3.446038</td>\n",
       "      <td>{'was_impossible': False}</td>\n",
       "    </tr>\n",
       "    <tr>\n",
       "      <th>664</th>\n",
       "      <td>3304</td>\n",
       "      <td>3030</td>\n",
       "      <td>None</td>\n",
       "      <td>3.439486</td>\n",
       "      <td>{'was_impossible': False}</td>\n",
       "    </tr>\n",
       "    <tr>\n",
       "      <th>669</th>\n",
       "      <td>3304</td>\n",
       "      <td>3435</td>\n",
       "      <td>None</td>\n",
       "      <td>3.434246</td>\n",
       "      <td>{'was_impossible': False}</td>\n",
       "    </tr>\n",
       "    <tr>\n",
       "      <th>1068</th>\n",
       "      <td>3304</td>\n",
       "      <td>44555</td>\n",
       "      <td>None</td>\n",
       "      <td>3.430444</td>\n",
       "      <td>{'was_impossible': False}</td>\n",
       "    </tr>\n",
       "  </tbody>\n",
       "</table>\n",
       "</div>"
      ],
      "text/plain": [
       "      userID  movieID  r_ui    rating                    details\n",
       "953     3304     2351  None  3.486928  {'was_impossible': False}\n",
       "94      3304      858  None  3.473173  {'was_impossible': False}\n",
       "696     3304     6669  None  3.466626  {'was_impossible': False}\n",
       "6390    3304      668  None  3.452529  {'was_impossible': False}\n",
       "70      3304      318  None  3.450031  {'was_impossible': False}\n",
       "258     3304     2360  None  3.446603  {'was_impossible': False}\n",
       "550     3304       50  None  3.446038  {'was_impossible': False}\n",
       "664     3304     3030  None  3.439486  {'was_impossible': False}\n",
       "669     3304     3435  None  3.434246  {'was_impossible': False}\n",
       "1068    3304    44555  None  3.430444  {'was_impossible': False}"
      ]
     },
     "execution_count": 90,
     "metadata": {},
     "output_type": "execute_result"
    }
   ],
   "source": [
    "df_pred"
   ]
  },
  {
   "cell_type": "code",
   "execution_count": 91,
   "id": "194f3221",
   "metadata": {},
   "outputs": [],
   "source": [
    "df_final = df_pred.merge(df_movies ,on='movieID',how='left')"
   ]
  },
  {
   "cell_type": "code",
   "execution_count": 92,
   "id": "e4cb792e",
   "metadata": {},
   "outputs": [
    {
     "data": {
      "text/html": [
       "<div>\n",
       "<style scoped>\n",
       "    .dataframe tbody tr th:only-of-type {\n",
       "        vertical-align: middle;\n",
       "    }\n",
       "\n",
       "    .dataframe tbody tr th {\n",
       "        vertical-align: top;\n",
       "    }\n",
       "\n",
       "    .dataframe thead th {\n",
       "        text-align: right;\n",
       "    }\n",
       "</style>\n",
       "<table border=\"1\" class=\"dataframe\">\n",
       "  <thead>\n",
       "    <tr style=\"text-align: right;\">\n",
       "      <th></th>\n",
       "      <th>userID</th>\n",
       "      <th>movieID</th>\n",
       "      <th>r_ui</th>\n",
       "      <th>rating</th>\n",
       "      <th>details</th>\n",
       "      <th>title</th>\n",
       "      <th>imdbID</th>\n",
       "      <th>spanishTitle</th>\n",
       "      <th>imdbPictureURL</th>\n",
       "      <th>year</th>\n",
       "      <th>rtID</th>\n",
       "      <th>rtAllCriticsRating</th>\n",
       "      <th>rtAllCriticsNumReviews</th>\n",
       "      <th>rtAllCriticsNumFresh</th>\n",
       "      <th>rtAllCriticsNumRotten</th>\n",
       "      <th>rtAllCriticsScore</th>\n",
       "      <th>rtTopCriticsRating</th>\n",
       "      <th>rtTopCriticsNumReviews</th>\n",
       "      <th>rtTopCriticsNumFresh</th>\n",
       "      <th>rtTopCriticsNumRotten</th>\n",
       "      <th>rtTopCriticsScore</th>\n",
       "      <th>rtAudienceRating</th>\n",
       "      <th>rtAudienceNumRatings</th>\n",
       "      <th>rtAudienceScore</th>\n",
       "      <th>rtPictureURL</th>\n",
       "    </tr>\n",
       "  </thead>\n",
       "  <tbody>\n",
       "    <tr>\n",
       "      <th>0</th>\n",
       "      <td>3304</td>\n",
       "      <td>2351</td>\n",
       "      <td>None</td>\n",
       "      <td>3.486928</td>\n",
       "      <td>{'was_impossible': False}</td>\n",
       "      <td>Le notti di Cabiria</td>\n",
       "      <td>50783</td>\n",
       "      <td>Las noches de Cabiria</td>\n",
       "      <td>http://ia.media-imdb.com/images/M/MV5BMjExNTA3...</td>\n",
       "      <td>1957</td>\n",
       "      <td>nights_of_cabiria</td>\n",
       "      <td>8.7</td>\n",
       "      <td>35</td>\n",
       "      <td>34</td>\n",
       "      <td>1</td>\n",
       "      <td>97</td>\n",
       "      <td>8.4</td>\n",
       "      <td>11</td>\n",
       "      <td>11</td>\n",
       "      <td>0</td>\n",
       "      <td>100</td>\n",
       "      <td>4.4</td>\n",
       "      <td>3465</td>\n",
       "      <td>94</td>\n",
       "      <td>http://content7.flixster.com/movie/29/88/29880...</td>\n",
       "    </tr>\n",
       "    <tr>\n",
       "      <th>1</th>\n",
       "      <td>3304</td>\n",
       "      <td>858</td>\n",
       "      <td>None</td>\n",
       "      <td>3.473173</td>\n",
       "      <td>{'was_impossible': False}</td>\n",
       "      <td>The Godfather</td>\n",
       "      <td>68646</td>\n",
       "      <td>El padrino</td>\n",
       "      <td>http://ia.media-imdb.com/images/M/MV5BMTc3MDQz...</td>\n",
       "      <td>1972</td>\n",
       "      <td>godfather</td>\n",
       "      <td>9</td>\n",
       "      <td>66</td>\n",
       "      <td>66</td>\n",
       "      <td>0</td>\n",
       "      <td>100</td>\n",
       "      <td>8.4</td>\n",
       "      <td>11</td>\n",
       "      <td>11</td>\n",
       "      <td>0</td>\n",
       "      <td>100</td>\n",
       "      <td>4.4</td>\n",
       "      <td>172072</td>\n",
       "      <td>97</td>\n",
       "      <td>http://content9.flixster.com/movie/11/12/76/11...</td>\n",
       "    </tr>\n",
       "    <tr>\n",
       "      <th>2</th>\n",
       "      <td>3304</td>\n",
       "      <td>6669</td>\n",
       "      <td>None</td>\n",
       "      <td>3.466626</td>\n",
       "      <td>{'was_impossible': False}</td>\n",
       "      <td>Ikiru</td>\n",
       "      <td>44741</td>\n",
       "      <td>Vivir</td>\n",
       "      <td>http://ia.media-imdb.com/images/M/MV5BMTcyMDU0...</td>\n",
       "      <td>1952</td>\n",
       "      <td>ikiru</td>\n",
       "      <td>8.6</td>\n",
       "      <td>30</td>\n",
       "      <td>30</td>\n",
       "      <td>0</td>\n",
       "      <td>100</td>\n",
       "      <td>8.3</td>\n",
       "      <td>9</td>\n",
       "      <td>9</td>\n",
       "      <td>0</td>\n",
       "      <td>100</td>\n",
       "      <td>4.5</td>\n",
       "      <td>5818</td>\n",
       "      <td>96</td>\n",
       "      <td>http://content9.flixster.com/movie/11/14/66/11...</td>\n",
       "    </tr>\n",
       "  </tbody>\n",
       "</table>\n",
       "</div>"
      ],
      "text/plain": [
       "   userID  movieID  r_ui    rating                    details  \\\n",
       "0    3304     2351  None  3.486928  {'was_impossible': False}   \n",
       "1    3304      858  None  3.473173  {'was_impossible': False}   \n",
       "2    3304     6669  None  3.466626  {'was_impossible': False}   \n",
       "\n",
       "                 title  imdbID           spanishTitle  \\\n",
       "0  Le notti di Cabiria   50783  Las noches de Cabiria   \n",
       "1        The Godfather   68646             El padrino   \n",
       "2                Ikiru   44741                  Vivir   \n",
       "\n",
       "                                      imdbPictureURL  year               rtID  \\\n",
       "0  http://ia.media-imdb.com/images/M/MV5BMjExNTA3...  1957  nights_of_cabiria   \n",
       "1  http://ia.media-imdb.com/images/M/MV5BMTc3MDQz...  1972          godfather   \n",
       "2  http://ia.media-imdb.com/images/M/MV5BMTcyMDU0...  1952              ikiru   \n",
       "\n",
       "  rtAllCriticsRating rtAllCriticsNumReviews rtAllCriticsNumFresh  \\\n",
       "0                8.7                     35                   34   \n",
       "1                  9                     66                   66   \n",
       "2                8.6                     30                   30   \n",
       "\n",
       "  rtAllCriticsNumRotten rtAllCriticsScore rtTopCriticsRating  \\\n",
       "0                     1                97                8.4   \n",
       "1                     0               100                8.4   \n",
       "2                     0               100                8.3   \n",
       "\n",
       "  rtTopCriticsNumReviews rtTopCriticsNumFresh rtTopCriticsNumRotten  \\\n",
       "0                     11                   11                     0   \n",
       "1                     11                   11                     0   \n",
       "2                      9                    9                     0   \n",
       "\n",
       "  rtTopCriticsScore rtAudienceRating rtAudienceNumRatings rtAudienceScore  \\\n",
       "0               100              4.4                 3465              94   \n",
       "1               100              4.4               172072              97   \n",
       "2               100              4.5                 5818              96   \n",
       "\n",
       "                                        rtPictureURL  \n",
       "0  http://content7.flixster.com/movie/29/88/29880...  \n",
       "1  http://content9.flixster.com/movie/11/12/76/11...  \n",
       "2  http://content9.flixster.com/movie/11/14/66/11...  "
      ]
     },
     "execution_count": 92,
     "metadata": {},
     "output_type": "execute_result"
    }
   ],
   "source": [
    "df_final.head(3)"
   ]
  },
  {
   "cell_type": "code",
   "execution_count": 93,
   "id": "6d3c27a2",
   "metadata": {},
   "outputs": [],
   "source": [
    "movies_list = df_final['title'].values"
   ]
  },
  {
   "cell_type": "code",
   "execution_count": 63,
   "id": "57d6d7cb",
   "metadata": {},
   "outputs": [
    {
     "data": {
      "text/plain": [
       "array(['The Godfather', 'Le notti di Cabiria', 'Ikiru',\n",
       "       'The Shawshank Redemption', 'The Usual Suspects', 'Festen',\n",
       "       'Y�jinb�', 'L�t den r�tte komma in', \"L'atalante\",\n",
       "       'Pather Panchali'], dtype=object)"
      ]
     },
     "execution_count": 63,
     "metadata": {},
     "output_type": "execute_result"
    }
   ],
   "source": [
    "movies_list"
   ]
  },
  {
   "cell_type": "code",
   "execution_count": 72,
   "id": "7f872b7c",
   "metadata": {},
   "outputs": [
    {
     "data": {
      "text/plain": [
       "array(['Le notti di Cabiria', 'The Godfather', 'Ikiru',\n",
       "       'The Shawshank Redemption', 'Pather Panchali', 'Festen',\n",
       "       'The Usual Suspects', 'Y�jinb�', 'Double Indemnity',\n",
       "       'Das Leben der Anderen'], dtype=object)"
      ]
     },
     "execution_count": 72,
     "metadata": {},
     "output_type": "execute_result"
    }
   ],
   "source": [
    "movies_list"
   ]
  },
  {
   "cell_type": "code",
   "execution_count": 84,
   "id": "16667bce",
   "metadata": {},
   "outputs": [
    {
     "data": {
      "text/plain": [
       "array(['Le notti di Cabiria', 'The Godfather', 'Ikiru', 'Pather Panchali',\n",
       "       'The Shawshank Redemption', 'Festen', 'The Usual Suspects',\n",
       "       'Y�jinb�', 'Dom za vesanje', 'Double Indemnity'], dtype=object)"
      ]
     },
     "execution_count": 84,
     "metadata": {},
     "output_type": "execute_result"
    }
   ],
   "source": [
    "movies_list"
   ]
  },
  {
   "cell_type": "code",
   "execution_count": 94,
   "id": "e6286e1b",
   "metadata": {},
   "outputs": [
    {
     "data": {
      "text/plain": [
       "array(['Le notti di Cabiria', 'The Godfather', 'Ikiru', 'Pather Panchali',\n",
       "       'The Shawshank Redemption', 'Festen', 'The Usual Suspects',\n",
       "       'Y�jinb�', 'Double Indemnity', 'Das Leben der Anderen'],\n",
       "      dtype=object)"
      ]
     },
     "execution_count": 94,
     "metadata": {},
     "output_type": "execute_result"
    }
   ],
   "source": [
    "movies_list"
   ]
  },
  {
   "cell_type": "code",
   "execution_count": null,
   "id": "6f823d09",
   "metadata": {},
   "outputs": [],
   "source": []
  },
  {
   "cell_type": "code",
   "execution_count": null,
   "id": "a9784cba",
   "metadata": {},
   "outputs": [],
   "source": []
  },
  {
   "cell_type": "code",
   "execution_count": null,
   "id": "a8bf4f80",
   "metadata": {},
   "outputs": [],
   "source": []
  },
  {
   "cell_type": "code",
   "execution_count": null,
   "id": "82cec175",
   "metadata": {},
   "outputs": [],
   "source": []
  }
 ],
 "metadata": {
  "kernelspec": {
   "display_name": "Python 3",
   "language": "python",
   "name": "python3"
  },
  "language_info": {
   "codemirror_mode": {
    "name": "ipython",
    "version": 3
   },
   "file_extension": ".py",
   "mimetype": "text/x-python",
   "name": "python",
   "nbconvert_exporter": "python",
   "pygments_lexer": "ipython3",
   "version": "3.7.9"
  }
 },
 "nbformat": 4,
 "nbformat_minor": 5
}
