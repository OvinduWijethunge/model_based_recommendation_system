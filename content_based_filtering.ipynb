{
 "cells": [
  {
   "cell_type": "code",
   "execution_count": 4,
   "id": "f1b04674",
   "metadata": {},
   "outputs": [],
   "source": [
    "import pandas as pd\n",
    "import numpy as np\n",
    "import matplotlib.pyplot as plt\n",
    "import seaborn as sns\n",
    "import missingno as msn\n"
   ]
  },
  {
   "cell_type": "code",
   "execution_count": 5,
   "id": "5e19f03e",
   "metadata": {},
   "outputs": [],
   "source": [
    "df_movies = pd.read_table(\"dataSet/movies.dat\",sep=\"\\t\")\n",
    "pd.set_option('display.max_columns',None)"
   ]
  },
  {
   "cell_type": "code",
   "execution_count": 6,
   "id": "ae987869",
   "metadata": {},
   "outputs": [],
   "source": [
    "df_movies.rename(columns={'id': 'movieID'}, inplace=True)"
   ]
  },
  {
   "cell_type": "code",
   "execution_count": 7,
   "id": "b0a4623c",
   "metadata": {},
   "outputs": [],
   "source": [
    "df_genres = pd.read_table(\"dataSet/movie_genres.dat\",sep=\"\\t\")"
   ]
  },
  {
   "cell_type": "code",
   "execution_count": 8,
   "id": "86d006e6",
   "metadata": {},
   "outputs": [],
   "source": [
    "df_directors = pd.read_table(\"dataSet/movie_directors.dat\",sep=\"\\t\")"
   ]
  },
  {
   "cell_type": "code",
   "execution_count": 9,
   "id": "d4e29ad7",
   "metadata": {},
   "outputs": [],
   "source": [
    "df_actors = pd.read_table(\"dataSet/movie_actors.dat\",sep=\"\\t\")"
   ]
  },
  {
   "cell_type": "code",
   "execution_count": 10,
   "id": "e4729054",
   "metadata": {},
   "outputs": [],
   "source": [
    "df_countries = pd.read_table(\"dataSet/movie_countries.dat\",sep=\"\\t\")"
   ]
  },
  {
   "cell_type": "code",
   "execution_count": 11,
   "id": "ada4c2ca",
   "metadata": {},
   "outputs": [],
   "source": [
    "df_locations = pd.read_table(\"dataSet/movie_locations.dat\",sep=\"\\t\")"
   ]
  },
  {
   "cell_type": "code",
   "execution_count": 12,
   "id": "f4c5e2e6",
   "metadata": {},
   "outputs": [],
   "source": [
    "df_tags = pd.read_table(\"dataSet/tags.dat\",sep=\"\\t\")"
   ]
  },
  {
   "cell_type": "code",
   "execution_count": 13,
   "id": "389683be",
   "metadata": {},
   "outputs": [],
   "source": [
    "df_tags.rename(columns={'id': 'tagID'}, inplace=True)"
   ]
  },
  {
   "cell_type": "code",
   "execution_count": 14,
   "id": "9d0c52b7",
   "metadata": {},
   "outputs": [],
   "source": [
    "df_user_tags = pd.read_table(\"dataSet/user_taggedmovies.dat\",sep=\"\\t\")"
   ]
  },
  {
   "cell_type": "code",
   "execution_count": 15,
   "id": "dc12092b",
   "metadata": {},
   "outputs": [],
   "source": [
    "df_movie_tags = pd.read_table(\"dataSet/movie_tags.dat\",sep=\"\\t\")"
   ]
  },
  {
   "cell_type": "code",
   "execution_count": 16,
   "id": "8ccef9fa",
   "metadata": {},
   "outputs": [],
   "source": [
    "df_ratings = pd.read_table(\"dataSet/user_ratedmovies.dat\",sep=\"\\t\")"
   ]
  },
  {
   "cell_type": "markdown",
   "id": "d03e050d",
   "metadata": {},
   "source": [
    "#### Merge above dataframes together which are important for the task"
   ]
  },
  {
   "cell_type": "code",
   "execution_count": 17,
   "id": "ecb5e9f6",
   "metadata": {},
   "outputs": [],
   "source": [
    "#df1.merge(df2, left_on='lkey', right_on='rkey')\n",
    "df = df_movies.merge(df_ratings, on='movieID')"
   ]
  },
  {
   "cell_type": "code",
   "execution_count": 18,
   "id": "74e7de29",
   "metadata": {},
   "outputs": [],
   "source": [
    "def get_genres(x):\n",
    "    genres_list = df_genres[df_genres['movieID']== x].genre.unique()\n",
    "    return ' '.join(genres_list)"
   ]
  },
  {
   "cell_type": "code",
   "execution_count": 19,
   "id": "408270f7",
   "metadata": {},
   "outputs": [],
   "source": [
    "df['genres'] = df['movieID'].apply(lambda x: get_genres(x))"
   ]
  },
  {
   "cell_type": "code",
   "execution_count": 20,
   "id": "edce9a7a",
   "metadata": {},
   "outputs": [],
   "source": [
    "df = df.merge(df_directors, on='movieID',how='left')"
   ]
  },
  {
   "cell_type": "code",
   "execution_count": 21,
   "id": "9dc7900b",
   "metadata": {},
   "outputs": [],
   "source": [
    "def get_actors(x):\n",
    "    actors_list = df_actors[df_actors['movieID']== x].actorName.unique()\n",
    "    if len(actors_list) >= 4:\n",
    "        return ' '.join(actors_list[:4]) \n",
    "    else:\n",
    "        return ' '.join(actors_list)"
   ]
  },
  {
   "cell_type": "code",
   "execution_count": 22,
   "id": "49b97227",
   "metadata": {},
   "outputs": [],
   "source": [
    "df['actors'] = df['movieID'].apply(lambda x: get_actors(x))"
   ]
  },
  {
   "cell_type": "code",
   "execution_count": 23,
   "id": "4f3b0265",
   "metadata": {},
   "outputs": [],
   "source": [
    "df = df.merge(df_countries, on='movieID')"
   ]
  },
  {
   "cell_type": "code",
   "execution_count": 24,
   "id": "aaa96147",
   "metadata": {},
   "outputs": [],
   "source": [
    "movie_ratingCount = (df.groupby(by = ['title'])['rating'].count().reset_index().rename(columns = {'rating': 'ratingCount'})[['title', 'ratingCount']])"
   ]
  },
  {
   "cell_type": "code",
   "execution_count": 25,
   "id": "07bde161",
   "metadata": {},
   "outputs": [],
   "source": [
    "df_new = df.merge(movie_ratingCount, left_on = 'title', right_on = 'title', how = 'left')"
   ]
  },
  {
   "cell_type": "code",
   "execution_count": 26,
   "id": "778583ad",
   "metadata": {},
   "outputs": [],
   "source": [
    "is_duplicate = df_new.duplicated()"
   ]
  },
  {
   "cell_type": "code",
   "execution_count": 27,
   "id": "21a83774",
   "metadata": {},
   "outputs": [
    {
     "name": "stdout",
     "output_type": "stream",
     "text": [
      "Number of duplicate records: 0\n"
     ]
    }
   ],
   "source": [
    "print(\"Number of duplicate records:\", sum(is_duplicate))"
   ]
  },
  {
   "cell_type": "code",
   "execution_count": 52,
   "id": "52337998",
   "metadata": {},
   "outputs": [],
   "source": [
    "df_cb = df_new.drop_duplicates(subset =\"title\", keep = 'last')"
   ]
  },
  {
   "cell_type": "code",
   "execution_count": 53,
   "id": "fb64143b",
   "metadata": {},
   "outputs": [
    {
     "data": {
      "text/plain": [
       "movieID                     0\n",
       "title                       0\n",
       "imdbID                      0\n",
       "spanishTitle                0\n",
       "imdbPictureURL            169\n",
       "year                        0\n",
       "rtID                      286\n",
       "rtAllCriticsRating          0\n",
       "rtAllCriticsNumReviews      0\n",
       "rtAllCriticsNumFresh        0\n",
       "rtAllCriticsNumRotten       0\n",
       "rtAllCriticsScore           0\n",
       "rtTopCriticsRating          0\n",
       "rtTopCriticsNumReviews      0\n",
       "rtTopCriticsNumFresh        0\n",
       "rtTopCriticsNumRotten       0\n",
       "rtTopCriticsScore           0\n",
       "rtAudienceRating            0\n",
       "rtAudienceNumRatings        0\n",
       "rtAudienceScore             0\n",
       "rtPictureURL                0\n",
       "userID                      0\n",
       "rating                      0\n",
       "date_day                    0\n",
       "date_month                  0\n",
       "date_year                   0\n",
       "date_hour                   0\n",
       "date_minute                 0\n",
       "date_second                 0\n",
       "genres                      0\n",
       "directorID                 39\n",
       "directorName               39\n",
       "actors                      0\n",
       "country                     7\n",
       "ratingCount                 0\n",
       "dtype: int64"
      ]
     },
     "execution_count": 53,
     "metadata": {},
     "output_type": "execute_result"
    }
   ],
   "source": [
    "df_cb.isnull().sum()"
   ]
  },
  {
   "cell_type": "code",
   "execution_count": 54,
   "id": "43b0f960",
   "metadata": {},
   "outputs": [],
   "source": [
    "df_cb = df_cb.fillna('unknown')"
   ]
  },
  {
   "cell_type": "code",
   "execution_count": 55,
   "id": "bb70a556",
   "metadata": {},
   "outputs": [],
   "source": [
    "df_cb = df_cb[['movieID','title','userID','rating','genres','directorName','actors','country','ratingCount']]"
   ]
  },
  {
   "cell_type": "code",
   "execution_count": 56,
   "id": "f2f3ea8b",
   "metadata": {},
   "outputs": [
    {
     "data": {
      "text/html": [
       "<div>\n",
       "<style scoped>\n",
       "    .dataframe tbody tr th:only-of-type {\n",
       "        vertical-align: middle;\n",
       "    }\n",
       "\n",
       "    .dataframe tbody tr th {\n",
       "        vertical-align: top;\n",
       "    }\n",
       "\n",
       "    .dataframe thead th {\n",
       "        text-align: right;\n",
       "    }\n",
       "</style>\n",
       "<table border=\"1\" class=\"dataframe\">\n",
       "  <thead>\n",
       "    <tr style=\"text-align: right;\">\n",
       "      <th></th>\n",
       "      <th>movieID</th>\n",
       "      <th>title</th>\n",
       "      <th>userID</th>\n",
       "      <th>rating</th>\n",
       "      <th>genres</th>\n",
       "      <th>directorName</th>\n",
       "      <th>actors</th>\n",
       "      <th>country</th>\n",
       "      <th>ratingCount</th>\n",
       "    </tr>\n",
       "  </thead>\n",
       "  <tbody>\n",
       "    <tr>\n",
       "      <th>1262</th>\n",
       "      <td>1</td>\n",
       "      <td>Toy story</td>\n",
       "      <td>71529</td>\n",
       "      <td>4.5</td>\n",
       "      <td>Adventure Animation Children Comedy Fantasy</td>\n",
       "      <td>John Lasseter</td>\n",
       "      <td>Annie Potts Bill Farmer Don Rickles Erik von D...</td>\n",
       "      <td>USA</td>\n",
       "      <td>1263</td>\n",
       "    </tr>\n",
       "    <tr>\n",
       "      <th>2027</th>\n",
       "      <td>2</td>\n",
       "      <td>Jumanji</td>\n",
       "      <td>71497</td>\n",
       "      <td>3.5</td>\n",
       "      <td>Adventure Children Fantasy</td>\n",
       "      <td>Joe Johnston</td>\n",
       "      <td>Peter Bryant Adam Hann-Byrd Bebe Neuwirth Bonn...</td>\n",
       "      <td>USA</td>\n",
       "      <td>765</td>\n",
       "    </tr>\n",
       "  </tbody>\n",
       "</table>\n",
       "</div>"
      ],
      "text/plain": [
       "      movieID      title  userID  rating  \\\n",
       "1262        1  Toy story   71529     4.5   \n",
       "2027        2    Jumanji   71497     3.5   \n",
       "\n",
       "                                           genres   directorName  \\\n",
       "1262  Adventure Animation Children Comedy Fantasy  John Lasseter   \n",
       "2027                   Adventure Children Fantasy   Joe Johnston   \n",
       "\n",
       "                                                 actors country  ratingCount  \n",
       "1262  Annie Potts Bill Farmer Don Rickles Erik von D...     USA         1263  \n",
       "2027  Peter Bryant Adam Hann-Byrd Bebe Neuwirth Bonn...     USA          765  "
      ]
     },
     "execution_count": 56,
     "metadata": {},
     "output_type": "execute_result"
    }
   ],
   "source": [
    "df_cb.head(2)"
   ]
  },
  {
   "cell_type": "code",
   "execution_count": null,
   "id": "b9934ca8",
   "metadata": {},
   "outputs": [],
   "source": []
  },
  {
   "cell_type": "code",
   "execution_count": null,
   "id": "74e49d41",
   "metadata": {},
   "outputs": [],
   "source": []
  },
  {
   "cell_type": "code",
   "execution_count": null,
   "id": "43eae1d7",
   "metadata": {},
   "outputs": [],
   "source": []
  },
  {
   "cell_type": "code",
   "execution_count": 66,
   "id": "e0e4ccbe",
   "metadata": {},
   "outputs": [],
   "source": [
    "popularity_threshold = 300\n",
    "popular_movie=df_cb.query('ratingCount >= @popularity_threshold')"
   ]
  },
  {
   "cell_type": "code",
   "execution_count": 67,
   "id": "78000b18",
   "metadata": {},
   "outputs": [
    {
     "data": {
      "text/plain": [
       "(772, 9)"
      ]
     },
     "execution_count": 67,
     "metadata": {},
     "output_type": "execute_result"
    }
   ],
   "source": [
    "popular_movie.shape"
   ]
  },
  {
   "cell_type": "code",
   "execution_count": 68,
   "id": "e915a7d3",
   "metadata": {},
   "outputs": [
    {
     "name": "stderr",
     "output_type": "stream",
     "text": [
      "C:\\Users\\Acer\\AppData\\Roaming\\Python\\Python37\\site-packages\\ipykernel_launcher.py:1: SettingWithCopyWarning: \n",
      "A value is trying to be set on a copy of a slice from a DataFrame.\n",
      "Try using .loc[row_indexer,col_indexer] = value instead\n",
      "\n",
      "See the caveats in the documentation: https://pandas.pydata.org/pandas-docs/stable/user_guide/indexing.html#returning-a-view-versus-a-copy\n",
      "  \"\"\"Entry point for launching an IPython kernel.\n"
     ]
    }
   ],
   "source": [
    "popular_movie['description'] = popular_movie['title']+' '+popular_movie['genres']+' '+popular_movie['directorName']+' '+popular_movie['actors']+' '+popular_movie['country']"
   ]
  },
  {
   "cell_type": "code",
   "execution_count": 69,
   "id": "9795e4f5",
   "metadata": {},
   "outputs": [
    {
     "data": {
      "text/html": [
       "<div>\n",
       "<style scoped>\n",
       "    .dataframe tbody tr th:only-of-type {\n",
       "        vertical-align: middle;\n",
       "    }\n",
       "\n",
       "    .dataframe tbody tr th {\n",
       "        vertical-align: top;\n",
       "    }\n",
       "\n",
       "    .dataframe thead th {\n",
       "        text-align: right;\n",
       "    }\n",
       "</style>\n",
       "<table border=\"1\" class=\"dataframe\">\n",
       "  <thead>\n",
       "    <tr style=\"text-align: right;\">\n",
       "      <th></th>\n",
       "      <th>movieID</th>\n",
       "      <th>title</th>\n",
       "      <th>userID</th>\n",
       "      <th>rating</th>\n",
       "      <th>genres</th>\n",
       "      <th>directorName</th>\n",
       "      <th>actors</th>\n",
       "      <th>country</th>\n",
       "      <th>ratingCount</th>\n",
       "      <th>description</th>\n",
       "    </tr>\n",
       "  </thead>\n",
       "  <tbody>\n",
       "    <tr>\n",
       "      <th>1262</th>\n",
       "      <td>1</td>\n",
       "      <td>Toy story</td>\n",
       "      <td>71529</td>\n",
       "      <td>4.5</td>\n",
       "      <td>Adventure Animation Children Comedy Fantasy</td>\n",
       "      <td>John Lasseter</td>\n",
       "      <td>Annie Potts Bill Farmer Don Rickles Erik von D...</td>\n",
       "      <td>USA</td>\n",
       "      <td>1263</td>\n",
       "      <td>Toy story Adventure Animation Children Comedy ...</td>\n",
       "    </tr>\n",
       "    <tr>\n",
       "      <th>2027</th>\n",
       "      <td>2</td>\n",
       "      <td>Jumanji</td>\n",
       "      <td>71497</td>\n",
       "      <td>3.5</td>\n",
       "      <td>Adventure Children Fantasy</td>\n",
       "      <td>Joe Johnston</td>\n",
       "      <td>Peter Bryant Adam Hann-Byrd Bebe Neuwirth Bonn...</td>\n",
       "      <td>USA</td>\n",
       "      <td>765</td>\n",
       "      <td>Jumanji Adventure Children Fantasy Joe Johnsto...</td>\n",
       "    </tr>\n",
       "  </tbody>\n",
       "</table>\n",
       "</div>"
      ],
      "text/plain": [
       "      movieID      title  userID  rating  \\\n",
       "1262        1  Toy story   71529     4.5   \n",
       "2027        2    Jumanji   71497     3.5   \n",
       "\n",
       "                                           genres   directorName  \\\n",
       "1262  Adventure Animation Children Comedy Fantasy  John Lasseter   \n",
       "2027                   Adventure Children Fantasy   Joe Johnston   \n",
       "\n",
       "                                                 actors country  ratingCount  \\\n",
       "1262  Annie Potts Bill Farmer Don Rickles Erik von D...     USA         1263   \n",
       "2027  Peter Bryant Adam Hann-Byrd Bebe Neuwirth Bonn...     USA          765   \n",
       "\n",
       "                                            description  \n",
       "1262  Toy story Adventure Animation Children Comedy ...  \n",
       "2027  Jumanji Adventure Children Fantasy Joe Johnsto...  "
      ]
     },
     "execution_count": 69,
     "metadata": {},
     "output_type": "execute_result"
    }
   ],
   "source": [
    "popular_movie.head(2)"
   ]
  },
  {
   "cell_type": "code",
   "execution_count": 70,
   "id": "c46fa67f",
   "metadata": {},
   "outputs": [
    {
     "name": "stderr",
     "output_type": "stream",
     "text": [
      "C:\\Users\\Acer\\AppData\\Roaming\\Python\\Python37\\site-packages\\ipykernel_launcher.py:1: SettingWithCopyWarning: \n",
      "A value is trying to be set on a copy of a slice from a DataFrame.\n",
      "Try using .loc[row_indexer,col_indexer] = value instead\n",
      "\n",
      "See the caveats in the documentation: https://pandas.pydata.org/pandas-docs/stable/user_guide/indexing.html#returning-a-view-versus-a-copy\n",
      "  \"\"\"Entry point for launching an IPython kernel.\n"
     ]
    }
   ],
   "source": [
    "popular_movie['description'] = popular_movie['description'].str.lower()"
   ]
  },
  {
   "cell_type": "code",
   "execution_count": 65,
   "id": "9817376c",
   "metadata": {},
   "outputs": [
    {
     "data": {
      "text/plain": [
       "'Toy story Adventure Animation Children Comedy Fantasy John Lasseter Annie Potts Bill Farmer Don Rickles Erik von Detten USA'"
      ]
     },
     "execution_count": 65,
     "metadata": {},
     "output_type": "execute_result"
    }
   ],
   "source": [
    "popular_movie['description'][1262]"
   ]
  },
  {
   "cell_type": "code",
   "execution_count": 86,
   "id": "14aeb0a8",
   "metadata": {},
   "outputs": [],
   "source": [
    "popular_movie[['title','userID','description']].to_csv('modified_content_dataSet.csv',index=False)"
   ]
  },
  {
   "cell_type": "code",
   "execution_count": 87,
   "id": "62c0012a",
   "metadata": {},
   "outputs": [],
   "source": [
    "dff = pd.read_csv('modified_content_dataSet.csv')"
   ]
  },
  {
   "cell_type": "code",
   "execution_count": 88,
   "id": "264b243c",
   "metadata": {},
   "outputs": [
    {
     "data": {
      "text/html": [
       "<div>\n",
       "<style scoped>\n",
       "    .dataframe tbody tr th:only-of-type {\n",
       "        vertical-align: middle;\n",
       "    }\n",
       "\n",
       "    .dataframe tbody tr th {\n",
       "        vertical-align: top;\n",
       "    }\n",
       "\n",
       "    .dataframe thead th {\n",
       "        text-align: right;\n",
       "    }\n",
       "</style>\n",
       "<table border=\"1\" class=\"dataframe\">\n",
       "  <thead>\n",
       "    <tr style=\"text-align: right;\">\n",
       "      <th></th>\n",
       "      <th>title</th>\n",
       "      <th>userID</th>\n",
       "      <th>description</th>\n",
       "    </tr>\n",
       "  </thead>\n",
       "  <tbody>\n",
       "    <tr>\n",
       "      <th>0</th>\n",
       "      <td>Toy story</td>\n",
       "      <td>71529</td>\n",
       "      <td>toy story adventure animation children comedy ...</td>\n",
       "    </tr>\n",
       "    <tr>\n",
       "      <th>1</th>\n",
       "      <td>Jumanji</td>\n",
       "      <td>71497</td>\n",
       "      <td>jumanji adventure children fantasy joe johnsto...</td>\n",
       "    </tr>\n",
       "  </tbody>\n",
       "</table>\n",
       "</div>"
      ],
      "text/plain": [
       "       title  userID                                        description\n",
       "0  Toy story   71529  toy story adventure animation children comedy ...\n",
       "1    Jumanji   71497  jumanji adventure children fantasy joe johnsto..."
      ]
     },
     "execution_count": 88,
     "metadata": {},
     "output_type": "execute_result"
    }
   ],
   "source": [
    "dff.head(2)"
   ]
  },
  {
   "cell_type": "code",
   "execution_count": 89,
   "id": "cc78a873",
   "metadata": {},
   "outputs": [
    {
     "data": {
      "text/plain": [
       "title          0\n",
       "userID         0\n",
       "description    0\n",
       "dtype: int64"
      ]
     },
     "execution_count": 89,
     "metadata": {},
     "output_type": "execute_result"
    }
   ],
   "source": [
    "dff.isnull().sum()"
   ]
  },
  {
   "cell_type": "code",
   "execution_count": 90,
   "id": "b5792cdc",
   "metadata": {},
   "outputs": [
    {
     "data": {
      "text/plain": [
       "(772, 3)"
      ]
     },
     "execution_count": 90,
     "metadata": {},
     "output_type": "execute_result"
    }
   ],
   "source": [
    "dff.shape"
   ]
  },
  {
   "cell_type": "code",
   "execution_count": 91,
   "id": "8a1a1f23",
   "metadata": {},
   "outputs": [],
   "source": [
    "from sklearn.feature_extraction.text import TfidfVectorizer\n",
    "from sklearn.metrics.pairwise import cosine_similarity"
   ]
  },
  {
   "cell_type": "code",
   "execution_count": 92,
   "id": "c4366127",
   "metadata": {},
   "outputs": [],
   "source": [
    "tf = TfidfVectorizer(analyzer='word',ngram_range=(1, 2),min_df=0, stop_words='english')\n",
    "tfidf_matrix = tf.fit_transform(dff['description'])"
   ]
  },
  {
   "cell_type": "code",
   "execution_count": 93,
   "id": "9328993e",
   "metadata": {},
   "outputs": [
    {
     "data": {
      "text/plain": [
       "(772, 12535)"
      ]
     },
     "execution_count": 93,
     "metadata": {},
     "output_type": "execute_result"
    }
   ],
   "source": [
    "tfidf_matrix.shape"
   ]
  },
  {
   "cell_type": "code",
   "execution_count": 104,
   "id": "defd7973",
   "metadata": {},
   "outputs": [],
   "source": [
    "from sklearn.metrics.pairwise import linear_kernel"
   ]
  },
  {
   "cell_type": "code",
   "execution_count": 105,
   "id": "23ccb307",
   "metadata": {},
   "outputs": [],
   "source": [
    "sig = linear_kernel(tfidf_matrix, tfidf_matrix)"
   ]
  },
  {
   "cell_type": "code",
   "execution_count": null,
   "id": "07f95948",
   "metadata": {},
   "outputs": [],
   "source": [
    "\n"
   ]
  },
  {
   "cell_type": "code",
   "execution_count": 106,
   "id": "9d003d2f",
   "metadata": {},
   "outputs": [],
   "source": [
    "dff = dff.reset_index()\n",
    "titles = dff['title']\n",
    "indices = pd.Series(dff.index, index=dff['title'])\n",
    "#indices.head(2)"
   ]
  },
  {
   "cell_type": "code",
   "execution_count": 116,
   "id": "82067437",
   "metadata": {},
   "outputs": [],
   "source": [
    "def get_recommendations(title):\n",
    "    idx = indices[title]\n",
    "    sim_scores = list(enumerate(sig[idx]))\n",
    "    sim_scores = sorted(sim_scores, key=lambda x: x[1], reverse=True)\n",
    "    sim_scores = sim_scores[1:31]\n",
    "    movie_indices = [i[0] for i in sim_scores]\n",
    "    return titles.iloc[movie_indices].values.tolist()[:10]"
   ]
  },
  {
   "cell_type": "code",
   "execution_count": 117,
   "id": "b8b1e21c",
   "metadata": {},
   "outputs": [
    {
     "data": {
      "text/plain": [
       "['The Godfather: Part II',\n",
       " 'The Godfather: Part III',\n",
       " 'Apocalypse Now',\n",
       " 'Unforgiven',\n",
       " 'Tombstone',\n",
       " '3:10 to Yuma',\n",
       " 'Psycho',\n",
       " 'The Boondock Saints',\n",
       " 'Michael Clayton',\n",
       " 'The Great Escape']"
      ]
     },
     "execution_count": 117,
     "metadata": {},
     "output_type": "execute_result"
    }
   ],
   "source": [
    "get_recommendations('The Godfather')"
   ]
  },
  {
   "cell_type": "code",
   "execution_count": 109,
   "id": "25ca9150",
   "metadata": {},
   "outputs": [
    {
     "data": {
      "text/plain": [
       "712    Thank You for Smoking\n",
       "504                 Insomnia\n",
       "682            Batman Begins\n",
       "382          Erin Brockovich\n",
       "100            The Cable Guy\n",
       "27              First Knight\n",
       "434                  Memento\n",
       "732             The Prestige\n",
       "601              Man on Fire\n",
       "650      Grosse Pointe Blank\n",
       "Name: title, dtype: object"
      ]
     },
     "execution_count": 109,
     "metadata": {},
     "output_type": "execute_result"
    }
   ],
   "source": [
    "get_recommendations('The Dark Knight').head(10)"
   ]
  },
  {
   "cell_type": "code",
   "execution_count": null,
   "id": "6d9ecddb",
   "metadata": {},
   "outputs": [],
   "source": []
  }
 ],
 "metadata": {
  "kernelspec": {
   "display_name": "Python 3",
   "language": "python",
   "name": "python3"
  },
  "language_info": {
   "codemirror_mode": {
    "name": "ipython",
    "version": 3
   },
   "file_extension": ".py",
   "mimetype": "text/x-python",
   "name": "python",
   "nbconvert_exporter": "python",
   "pygments_lexer": "ipython3",
   "version": "3.7.9"
  }
 },
 "nbformat": 4,
 "nbformat_minor": 5
}
